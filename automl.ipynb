{
  "cells": [
    {
      "cell_type": "markdown",
      "source": [
        "# Automated ML\n",
        "\n",
        "TODO: Import Dependencies. In the cell below, import all the dependencies that you will need to complete the project."
      ],
      "metadata": {}
    },
    {
      "cell_type": "code",
      "source": [
        "import logging\r\n",
        "\r\n",
        "from sklearn.metrics import mean_absolute_error, mean_squared_error, r2_score\r\n",
        "from matplotlib import pyplot as plt\r\n",
        "import pandas as pd\r\n",
        "import numpy as np\r\n",
        "import warnings\r\n",
        "import os\r\n",
        "\r\n",
        "# Squash warning messages for cleaner output in the notebook\r\n",
        "warnings.showwarning = lambda *args, **kwargs: None\r\n",
        "\r\n",
        "import azureml.core\r\n",
        "from azureml.core import Experiment, Workspace, Dataset\r\n",
        "from azureml.train.automl import AutoMLConfig\r\n",
        "from datetime import datetime\r\n",
        "from azureml.core.compute_target import ComputeTargetException\r\n",
        "from azureml.widgets import RunDetails\r\n",
        "from azureml.train.automl import AutoMLConfig\r\n",
        "\r\n",
        "from azureml.core.model import InferenceConfig\r\n",
        "from azureml.core.webservice import AciWebservice, Webservice\r\n",
        "from azureml.core.model import Model\r\n",
        "from azureml.core.environment import Environment"
      ],
      "outputs": [],
      "execution_count": 2,
      "metadata": {
        "gather": {
          "logged": 1610167288508
        },
        "jupyter": {
          "outputs_hidden": false,
          "source_hidden": false
        },
        "nteract": {
          "transient": {
            "deleting": false
          }
        }
      }
    },
    {
      "cell_type": "markdown",
      "source": [
        "## Dataset\n",
        "\n",
        "### Overview\n",
        "TODO: In this markdown cell, give an overview of the dataset you are using. Also mention the task you will be performing.\n",
        "\n",
        "\n",
        "TODO: Get data. In the cell below, write code to access the data you will be using in this project. Remember that the dataset needs to be external."
      ],
      "metadata": {}
    },
    {
      "cell_type": "code",
      "source": [
        "ws = Workspace.from_config()\r\n",
        "print(ws.name, ws.resource_group, ws.location, ws.subscription_id, sep = '\\n')"
      ],
      "outputs": [
        {
          "output_type": "stream",
          "name": "stdout",
          "text": [
            "Performing interactive authentication. Please follow the instructions on the terminal.\n",
            "To sign in, use a web browser to open the page https://microsoft.com/devicelogin and enter the code A84Z23R67 to authenticate.\n",
            "You have logged in. Now let us find all the subscriptions to which you have access...\n",
            "Interactive authentication successfully completed.\n",
            "quick-starts-ws-134046\n",
            "aml-quickstarts-134046\n",
            "southcentralus\n",
            "48a74bb7-9950-4cc1-9caa-5d50f995cc55\n"
          ]
        }
      ],
      "execution_count": 3,
      "metadata": {
        "collapsed": true,
        "jupyter": {
          "source_hidden": false,
          "outputs_hidden": false
        },
        "nteract": {
          "transient": {
            "deleting": false
          }
        },
        "gather": {
          "logged": 1610167377571
        }
      }
    },
    {
      "cell_type": "code",
      "source": [
        "from azureml.core.compute import ComputeTarget, AmlCompute\r\n",
        "from azureml.core.compute_target import ComputeTargetException\r\n",
        "\r\n",
        "ws = Workspace.from_config() # this automatically looks for a directory .azureml\r\n",
        "\r\n",
        "# Choose a name for your CPU cluster\r\n",
        "cpu_cluster_name = \"cluster\"\r\n",
        "\r\n",
        "# Verify that cluster does not exist already\r\n",
        "try:\r\n",
        "    cpu_cluster = ComputeTarget(workspace=ws, name=cpu_cluster_name)\r\n",
        "    print('Found existing cluster, use it.')\r\n",
        "except ComputeTargetException:\r\n",
        "    compute_config = AmlCompute.provisioning_configuration(vm_size='STANDARD_D2_V2',\r\n",
        "                                                            max_nodes=4, \r\n",
        "                                                            idle_seconds_before_scaledown=2400,\r\n",
        "                                                            vm_priority='lowpriority')\r\n",
        "    cpu_cluster = ComputeTarget.create(ws, cpu_cluster_name, compute_config)\r\n",
        "\r\n",
        "cpu_cluster.wait_for_completion(show_output=True)\r\n",
        "compute_targets = ws.compute_targets\r\n",
        "for name, ct in compute_targets.items():\r\n",
        "    print(name, ct.type, ct.provisioning_state)"
      ],
      "outputs": [
        {
          "output_type": "stream",
          "name": "stdout",
          "text": [
            "Found existing cluster, use it.\n",
            "Succeeded\n",
            "AmlCompute wait for completion finished\n",
            "\n",
            "Minimum number of nodes requested have been provisioned\n",
            "notebook134046 ComputeInstance Succeeded\n",
            "cluster AmlCompute Succeeded\n"
          ]
        }
      ],
      "execution_count": 4,
      "metadata": {
        "collapsed": true,
        "jupyter": {
          "source_hidden": false,
          "outputs_hidden": false
        },
        "nteract": {
          "transient": {
            "deleting": false
          }
        },
        "gather": {
          "logged": 1610167643449
        }
      }
    },
    {
      "cell_type": "code",
      "source": [
        "# azureml-core of version 1.0.72 or higher is required\n",
        "# azureml-dataprep[pandas] of version 1.1.34 or higher is required\n",
        "from azureml.core import Workspace, Dataset\n",
        "\n",
        "subscription_id = '48a74bb7-9950-4cc1-9caa-5d50f995cc55'\n",
        "resource_group = 'aml-quickstarts-134046'\n",
        "workspace_name = 'quick-starts-ws-134046'\n",
        "\n",
        "workspace = Workspace(subscription_id, resource_group, workspace_name)\n",
        "\n",
        "dataset = Dataset.get_by_name(workspace, name='dibetes')\n",
        "df=dataset.to_pandas_dataframe()"
      ],
      "outputs": [],
      "execution_count": 38,
      "metadata": {
        "gather": {
          "logged": 1610171176053
        },
        "jupyter": {
          "outputs_hidden": false,
          "source_hidden": false
        },
        "nteract": {
          "transient": {
            "deleting": false
          }
        }
      }
    },
    {
      "cell_type": "markdown",
      "source": [
        "## AutoML Configuration\n",
        "\n",
        "TODO: Explain why you chose the automl settings and cofiguration you used below."
      ],
      "metadata": {}
    },
    {
      "cell_type": "code",
      "source": [],
      "outputs": [],
      "execution_count": null,
      "metadata": {
        "collapsed": true,
        "jupyter": {
          "source_hidden": false,
          "outputs_hidden": false
        },
        "nteract": {
          "transient": {
            "deleting": false
          }
        }
      }
    },
    {
      "cell_type": "code",
      "source": [
        "from azureml.train.automl import AutoMLConfig\n",
        "\n",
        "\n",
        "automl_config = AutoMLConfig(\n",
        "    experiment_timeout_minutes=30,\n",
        "    debug_log = 'automl_errors.log',\n",
        "    task='classification',\n",
        "    primary_metric='accuracy',\n",
        "    training_data=dataset,\n",
        "    label_column_name='Outcome',\n",
        "    n_cross_validations=5,\n",
        "    compute_target=\"cluster\",\n",
        "    iterations=24,\n",
        "    max_concurrent_iterations=8)"
      ],
      "outputs": [],
      "execution_count": 18,
      "metadata": {
        "gather": {
          "logged": 1610168475117
        },
        "jupyter": {
          "outputs_hidden": false,
          "source_hidden": false
        },
        "nteract": {
          "transient": {
            "deleting": false
          }
        }
      }
    },
    {
      "cell_type": "code",
      "source": [
        "# TODO: Submit your experiment\n",
        "remote_run = experiment.submit(automl_config,show_output=True)"
      ],
      "outputs": [
        {
          "output_type": "stream",
          "name": "stdout",
          "text": [
            "Running on remote.\n",
            "Running on remote compute: cluster\n",
            "Parent Run ID: AutoML_25f8d913-9778-4444-a10c-8acd597ad2b9\n",
            "\n",
            "Current status: FeaturesGeneration. Generating features for the dataset.\n",
            "Current status: ModelSelection. Beginning model selection.\n",
            "\n",
            "****************************************************************************************************\n",
            "DATA GUARDRAILS: \n",
            "\n",
            "TYPE:         Class balancing detection\n",
            "STATUS:       PASSED\n",
            "DESCRIPTION:  Your inputs were analyzed, and all classes are balanced in your training data.\n",
            "              Learn more about imbalanced data: https://aka.ms/AutomatedMLImbalancedData\n",
            "\n",
            "****************************************************************************************************\n",
            "\n",
            "TYPE:         Missing feature values imputation\n",
            "STATUS:       PASSED\n",
            "DESCRIPTION:  No feature missing values were detected in the training data.\n",
            "              Learn more about missing value imputation: https://aka.ms/AutomatedMLFeaturization\n",
            "\n",
            "****************************************************************************************************\n",
            "\n",
            "TYPE:         High cardinality feature detection\n",
            "STATUS:       PASSED\n",
            "DESCRIPTION:  Your inputs were analyzed, and no high cardinality features were detected.\n",
            "              Learn more about high cardinality feature handling: https://aka.ms/AutomatedMLFeaturization\n",
            "\n",
            "****************************************************************************************************\n",
            "\n",
            "****************************************************************************************************\n",
            "ITERATION: The iteration being evaluated.\n",
            "PIPELINE: A summary description of the pipeline being evaluated.\n",
            "DURATION: Time taken for the current iteration.\n",
            "METRIC: The result of computing score on the fitted pipeline.\n",
            "BEST: The best observed score thus far.\n",
            "****************************************************************************************************\n",
            "\n",
            " ITERATION   PIPELINE                                       DURATION      METRIC      BEST\n",
            "         2   MinMaxScaler RandomForest                      0:00:51       0.7670    0.7670\n",
            "         4   MinMaxScaler RandomForest                      0:00:49       0.7487    0.7670\n",
            "         0   MaxAbsScaler LightGBM                          0:00:47       0.7513    0.7670\n",
            "         1   MaxAbsScaler XGBoostClassifier                 0:01:08       0.7748    0.7748\n",
            "         6   MinMaxScaler LightGBM                          0:00:51       0.7565    0.7748\n",
            "         7   StandardScalerWrapper KNN                      0:01:03       0.7513    0.7748\n",
            "         3   MinMaxScaler RandomForest                      0:00:40       0.7696    0.7748\n",
            "         5   StandardScalerWrapper XGBoostClassifier        0:00:45       0.7436    0.7748\n",
            "         8   StandardScalerWrapper LightGBM                 0:00:47       0.7526    0.7748\n",
            "         9   MinMaxScaler SVM                               0:00:46       0.7240    0.7748\n",
            "        10   SparseNormalizer XGBoostClassifier             0:00:47       0.6824    0.7748\n",
            "        11   SparseNormalizer XGBoostClassifier             0:00:50       0.6902    0.7748\n",
            "        12   RobustScaler SVM                               0:00:49       0.7331    0.7748\n",
            "        13   StandardScalerWrapper XGBoostClassifier        0:00:48       0.7331    0.7748\n",
            "        14   SparseNormalizer XGBoostClassifier             0:00:44       0.6797    0.7748\n",
            "        15   SparseNormalizer XGBoostClassifier             0:01:02       0.6733    0.7748\n",
            "        16   StandardScalerWrapper LightGBM                 0:00:53       0.7552    0.7748\n",
            "        17   SparseNormalizer GradientBoosting              0:00:50       0.6719    0.7748\n",
            "        18   StandardScalerWrapper RandomForest             0:00:41       0.7501    0.7748\n",
            "        20   MaxAbsScaler LightGBM                          0:00:48       0.7553    0.7748\n",
            "        21   StandardScalerWrapper GradientBoosting         0:00:44       0.7605    0.7748\n",
            "        19   MaxAbsScaler LightGBM                          0:00:58       0.7488    0.7748\n",
            "        22    VotingEnsemble                                0:01:12       0.7878    0.7878\n",
            "        23    StackEnsemble                                 0:01:14       0.7774    0.7878\n"
          ]
        }
      ],
      "execution_count": 20,
      "metadata": {
        "gather": {
          "logged": 1610170015636
        },
        "jupyter": {
          "outputs_hidden": false,
          "source_hidden": false
        },
        "nteract": {
          "transient": {
            "deleting": false
          }
        }
      }
    },
    {
      "cell_type": "markdown",
      "source": [
        "## Run Details\n",
        "\n",
        "OPTIONAL: Write about the different models trained and their performance. Why do you think some models did better than others?\n",
        "\n",
        "TODO: In the cell below, use the `RunDetails` widget to show the different experiments."
      ],
      "metadata": {}
    },
    {
      "cell_type": "code",
      "source": [
        "from azureml.widgets import RunDetails\r\n",
        "RunDetails(remote_run).show()"
      ],
      "outputs": [
        {
          "output_type": "display_data",
          "data": {
            "text/plain": "_AutoMLWidget(widget_settings={'childWidgetDisplay': 'popup', 'send_telemetry': False, 'log_level': 'INFO', 's…",
            "application/vnd.jupyter.widget-view+json": {
              "version_major": 2,
              "version_minor": 0,
              "model_id": "b5b9ed78a1604f3698b149aa3fbf644c"
            }
          },
          "metadata": {}
        },
        {
          "output_type": "display_data",
          "data": {
            "application/aml.mini.widget.v1": "{\"status\": \"Completed\", \"workbench_run_details_uri\": \"https://ml.azure.com/experiments/diabetes/runs/AutoML_25f8d913-9778-4444-a10c-8acd597ad2b9?wsid=/subscriptions/48a74bb7-9950-4cc1-9caa-5d50f995cc55/resourcegroups/aml-quickstarts-134046/workspaces/quick-starts-ws-134046\", \"run_id\": \"AutoML_25f8d913-9778-4444-a10c-8acd597ad2b9\", \"run_properties\": {\"run_id\": \"AutoML_25f8d913-9778-4444-a10c-8acd597ad2b9\", \"created_utc\": \"2021-01-09T05:02:36.552818Z\", \"properties\": {\"num_iterations\": \"24\", \"training_type\": \"TrainFull\", \"acquisition_function\": \"EI\", \"primary_metric\": \"accuracy\", \"train_split\": \"0\", \"acquisition_parameter\": \"0\", \"num_cross_validation\": \"5\", \"target\": \"cluster\", \"AMLSettingsJsonString\": \"{\\\"path\\\":null,\\\"name\\\":\\\"diabetes\\\",\\\"subscription_id\\\":\\\"48a74bb7-9950-4cc1-9caa-5d50f995cc55\\\",\\\"resource_group\\\":\\\"aml-quickstarts-134046\\\",\\\"workspace_name\\\":\\\"quick-starts-ws-134046\\\",\\\"region\\\":\\\"southcentralus\\\",\\\"compute_target\\\":\\\"cluster\\\",\\\"spark_service\\\":null,\\\"azure_service\\\":\\\"remote\\\",\\\"many_models\\\":false,\\\"pipeline_fetch_max_batch_size\\\":1,\\\"iterations\\\":24,\\\"primary_metric\\\":\\\"accuracy\\\",\\\"task_type\\\":\\\"classification\\\",\\\"data_script\\\":null,\\\"validation_size\\\":0.0,\\\"n_cross_validations\\\":5,\\\"y_min\\\":null,\\\"y_max\\\":null,\\\"num_classes\\\":null,\\\"featurization\\\":\\\"auto\\\",\\\"_ignore_package_version_incompatibilities\\\":false,\\\"is_timeseries\\\":false,\\\"max_cores_per_iteration\\\":1,\\\"max_concurrent_iterations\\\":8,\\\"iteration_timeout_minutes\\\":null,\\\"mem_in_mb\\\":null,\\\"enforce_time_on_windows\\\":false,\\\"experiment_timeout_minutes\\\":30,\\\"experiment_exit_score\\\":null,\\\"whitelist_models\\\":null,\\\"blacklist_algos\\\":[\\\"TensorFlowLinearClassifier\\\",\\\"TensorFlowDNN\\\"],\\\"supported_models\\\":[\\\"TensorFlowLinearClassifier\\\",\\\"TensorFlowDNN\\\",\\\"ExtremeRandomTrees\\\",\\\"KNN\\\",\\\"AveragedPerceptronClassifier\\\",\\\"MultinomialNaiveBayes\\\",\\\"DecisionTree\\\",\\\"LinearSVM\\\",\\\"RandomForest\\\",\\\"SVM\\\",\\\"GradientBoosting\\\",\\\"LogisticRegression\\\",\\\"XGBoostClassifier\\\",\\\"LightGBM\\\",\\\"SGD\\\",\\\"BernoulliNaiveBayes\\\"],\\\"auto_blacklist\\\":true,\\\"blacklist_samples_reached\\\":false,\\\"exclude_nan_labels\\\":true,\\\"verbosity\\\":20,\\\"_debug_log\\\":\\\"azureml_automl.log\\\",\\\"show_warnings\\\":false,\\\"model_explainability\\\":true,\\\"service_url\\\":null,\\\"sdk_url\\\":null,\\\"sdk_packages\\\":null,\\\"enable_onnx_compatible_models\\\":false,\\\"enable_split_onnx_featurizer_estimator_models\\\":false,\\\"vm_type\\\":\\\"STANDARD_D2_V2\\\",\\\"telemetry_verbosity\\\":20,\\\"send_telemetry\\\":true,\\\"enable_dnn\\\":false,\\\"scenario\\\":\\\"SDK-1.13.0\\\",\\\"environment_label\\\":null,\\\"force_text_dnn\\\":false,\\\"enable_feature_sweeping\\\":true,\\\"enable_early_stopping\\\":false,\\\"early_stopping_n_iters\\\":10,\\\"metrics\\\":null,\\\"enable_ensembling\\\":true,\\\"enable_stack_ensembling\\\":true,\\\"ensemble_iterations\\\":15,\\\"enable_tf\\\":false,\\\"enable_subsampling\\\":false,\\\"subsample_seed\\\":null,\\\"enable_nimbusml\\\":false,\\\"enable_streaming\\\":false,\\\"force_streaming\\\":false,\\\"track_child_runs\\\":true,\\\"allowed_private_models\\\":[],\\\"label_column_name\\\":\\\"Outcome\\\",\\\"weight_column_name\\\":null,\\\"cv_split_column_names\\\":null,\\\"enable_local_managed\\\":false,\\\"_local_managed_run_id\\\":null,\\\"cost_mode\\\":1,\\\"lag_length\\\":0,\\\"metric_operation\\\":\\\"maximize\\\",\\\"preprocess\\\":true}\", \"DataPrepJsonString\": \"{\\\\\\\"training_data\\\\\\\": \\\\\\\"{\\\\\\\\\\\\\\\"blocks\\\\\\\\\\\\\\\": [{\\\\\\\\\\\\\\\"id\\\\\\\\\\\\\\\": \\\\\\\\\\\\\\\"15f24808-d9ed-44a3-8893-b92ddce0d24b\\\\\\\\\\\\\\\", \\\\\\\\\\\\\\\"type\\\\\\\\\\\\\\\": \\\\\\\\\\\\\\\"Microsoft.DPrep.GetDatastoreFilesBlock\\\\\\\\\\\\\\\", \\\\\\\\\\\\\\\"arguments\\\\\\\\\\\\\\\": {\\\\\\\\\\\\\\\"datastores\\\\\\\\\\\\\\\": [{\\\\\\\\\\\\\\\"datastoreName\\\\\\\\\\\\\\\": \\\\\\\\\\\\\\\"workspaceblobstore\\\\\\\\\\\\\\\", \\\\\\\\\\\\\\\"path\\\\\\\\\\\\\\\": \\\\\\\\\\\\\\\"UI/01-09-2021_042914_UTC/diabetes.csv\\\\\\\\\\\\\\\", \\\\\\\\\\\\\\\"resourceGroup\\\\\\\\\\\\\\\": \\\\\\\\\\\\\\\"aml-quickstarts-134046\\\\\\\\\\\\\\\", \\\\\\\\\\\\\\\"subscription\\\\\\\\\\\\\\\": \\\\\\\\\\\\\\\"48a74bb7-9950-4cc1-9caa-5d50f995cc55\\\\\\\\\\\\\\\", \\\\\\\\\\\\\\\"workspaceName\\\\\\\\\\\\\\\": \\\\\\\\\\\\\\\"quick-starts-ws-134046\\\\\\\\\\\\\\\"}]}, \\\\\\\\\\\\\\\"localData\\\\\\\\\\\\\\\": {}, \\\\\\\\\\\\\\\"isEnabled\\\\\\\\\\\\\\\": true, \\\\\\\\\\\\\\\"name\\\\\\\\\\\\\\\": null, \\\\\\\\\\\\\\\"annotation\\\\\\\\\\\\\\\": null}, {\\\\\\\\\\\\\\\"id\\\\\\\\\\\\\\\": \\\\\\\\\\\\\\\"31ad3855-9830-4c0c-bae1-b00f209f4384\\\\\\\\\\\\\\\", \\\\\\\\\\\\\\\"type\\\\\\\\\\\\\\\": \\\\\\\\\\\\\\\"Microsoft.DPrep.ParseDelimitedBlock\\\\\\\\\\\\\\\", \\\\\\\\\\\\\\\"arguments\\\\\\\\\\\\\\\": {\\\\\\\\\\\\\\\"columnHeadersMode\\\\\\\\\\\\\\\": 3, \\\\\\\\\\\\\\\"fileEncoding\\\\\\\\\\\\\\\": 0, \\\\\\\\\\\\\\\"handleQuotedLineBreaks\\\\\\\\\\\\\\\": false, \\\\\\\\\\\\\\\"preview\\\\\\\\\\\\\\\": false, \\\\\\\\\\\\\\\"separator\\\\\\\\\\\\\\\": \\\\\\\\\\\\\\\",\\\\\\\\\\\\\\\", \\\\\\\\\\\\\\\"skipRows\\\\\\\\\\\\\\\": 0, \\\\\\\\\\\\\\\"skipRowsMode\\\\\\\\\\\\\\\": 0}, \\\\\\\\\\\\\\\"localData\\\\\\\\\\\\\\\": {}, \\\\\\\\\\\\\\\"isEnabled\\\\\\\\\\\\\\\": true, \\\\\\\\\\\\\\\"name\\\\\\\\\\\\\\\": null, \\\\\\\\\\\\\\\"annotation\\\\\\\\\\\\\\\": null}, {\\\\\\\\\\\\\\\"id\\\\\\\\\\\\\\\": \\\\\\\\\\\\\\\"d6fb08d6-2bc2-42ed-9263-916bce738cdd\\\\\\\\\\\\\\\", \\\\\\\\\\\\\\\"type\\\\\\\\\\\\\\\": \\\\\\\\\\\\\\\"Microsoft.DPrep.DropColumnsBlock\\\\\\\\\\\\\\\", \\\\\\\\\\\\\\\"arguments\\\\\\\\\\\\\\\": {\\\\\\\\\\\\\\\"columns\\\\\\\\\\\\\\\": {\\\\\\\\\\\\\\\"type\\\\\\\\\\\\\\\": 0, \\\\\\\\\\\\\\\"details\\\\\\\\\\\\\\\": {\\\\\\\\\\\\\\\"selectedColumns\\\\\\\\\\\\\\\": [\\\\\\\\\\\\\\\"Path\\\\\\\\\\\\\\\"]}}}, \\\\\\\\\\\\\\\"localData\\\\\\\\\\\\\\\": {}, \\\\\\\\\\\\\\\"isEnabled\\\\\\\\\\\\\\\": true, \\\\\\\\\\\\\\\"name\\\\\\\\\\\\\\\": null, \\\\\\\\\\\\\\\"annotation\\\\\\\\\\\\\\\": null}, {\\\\\\\\\\\\\\\"id\\\\\\\\\\\\\\\": \\\\\\\\\\\\\\\"2e3d32b4-3645-4f3e-aebf-badde36b8eea\\\\\\\\\\\\\\\", \\\\\\\\\\\\\\\"type\\\\\\\\\\\\\\\": \\\\\\\\\\\\\\\"Microsoft.DPrep.SetColumnTypesBlock\\\\\\\\\\\\\\\", \\\\\\\\\\\\\\\"arguments\\\\\\\\\\\\\\\": {\\\\\\\\\\\\\\\"columnConversion\\\\\\\\\\\\\\\": [{\\\\\\\\\\\\\\\"column\\\\\\\\\\\\\\\": {\\\\\\\\\\\\\\\"type\\\\\\\\\\\\\\\": 2, \\\\\\\\\\\\\\\"details\\\\\\\\\\\\\\\": {\\\\\\\\\\\\\\\"selectedColumn\\\\\\\\\\\\\\\": \\\\\\\\\\\\\\\"Path\\\\\\\\\\\\\\\"}}, \\\\\\\\\\\\\\\"typeProperty\\\\\\\\\\\\\\\": 0}, {\\\\\\\\\\\\\\\"column\\\\\\\\\\\\\\\": {\\\\\\\\\\\\\\\"type\\\\\\\\\\\\\\\": 2, \\\\\\\\\\\\\\\"details\\\\\\\\\\\\\\\": {\\\\\\\\\\\\\\\"selectedColumn\\\\\\\\\\\\\\\": \\\\\\\\\\\\\\\"Pregnancies\\\\\\\\\\\\\\\"}}, \\\\\\\\\\\\\\\"typeProperty\\\\\\\\\\\\\\\": 2}, {\\\\\\\\\\\\\\\"column\\\\\\\\\\\\\\\": {\\\\\\\\\\\\\\\"type\\\\\\\\\\\\\\\": 2, \\\\\\\\\\\\\\\"details\\\\\\\\\\\\\\\": {\\\\\\\\\\\\\\\"selectedColumn\\\\\\\\\\\\\\\": \\\\\\\\\\\\\\\"Glucose\\\\\\\\\\\\\\\"}}, \\\\\\\\\\\\\\\"typeProperty\\\\\\\\\\\\\\\": 2}, {\\\\\\\\\\\\\\\"column\\\\\\\\\\\\\\\": {\\\\\\\\\\\\\\\"type\\\\\\\\\\\\\\\": 2, \\\\\\\\\\\\\\\"details\\\\\\\\\\\\\\\": {\\\\\\\\\\\\\\\"selectedColumn\\\\\\\\\\\\\\\": \\\\\\\\\\\\\\\"BloodPressure\\\\\\\\\\\\\\\"}}, \\\\\\\\\\\\\\\"typeProperty\\\\\\\\\\\\\\\": 2}, {\\\\\\\\\\\\\\\"column\\\\\\\\\\\\\\\": {\\\\\\\\\\\\\\\"type\\\\\\\\\\\\\\\": 2, \\\\\\\\\\\\\\\"details\\\\\\\\\\\\\\\": {\\\\\\\\\\\\\\\"selectedColumn\\\\\\\\\\\\\\\": \\\\\\\\\\\\\\\"SkinThickness\\\\\\\\\\\\\\\"}}, \\\\\\\\\\\\\\\"typeProperty\\\\\\\\\\\\\\\": 2}, {\\\\\\\\\\\\\\\"column\\\\\\\\\\\\\\\": {\\\\\\\\\\\\\\\"type\\\\\\\\\\\\\\\": 2, \\\\\\\\\\\\\\\"details\\\\\\\\\\\\\\\": {\\\\\\\\\\\\\\\"selectedColumn\\\\\\\\\\\\\\\": \\\\\\\\\\\\\\\"Insulin\\\\\\\\\\\\\\\"}}, \\\\\\\\\\\\\\\"typeProperty\\\\\\\\\\\\\\\": 2}, {\\\\\\\\\\\\\\\"column\\\\\\\\\\\\\\\": {\\\\\\\\\\\\\\\"type\\\\\\\\\\\\\\\": 2, \\\\\\\\\\\\\\\"details\\\\\\\\\\\\\\\": {\\\\\\\\\\\\\\\"selectedColumn\\\\\\\\\\\\\\\": \\\\\\\\\\\\\\\"BMI\\\\\\\\\\\\\\\"}}, \\\\\\\\\\\\\\\"typeProperty\\\\\\\\\\\\\\\": 3}, {\\\\\\\\\\\\\\\"column\\\\\\\\\\\\\\\": {\\\\\\\\\\\\\\\"type\\\\\\\\\\\\\\\": 2, \\\\\\\\\\\\\\\"details\\\\\\\\\\\\\\\": {\\\\\\\\\\\\\\\"selectedColumn\\\\\\\\\\\\\\\": \\\\\\\\\\\\\\\"DiabetesPedigreeFunction\\\\\\\\\\\\\\\"}}, \\\\\\\\\\\\\\\"typeProperty\\\\\\\\\\\\\\\": 3}, {\\\\\\\\\\\\\\\"column\\\\\\\\\\\\\\\": {\\\\\\\\\\\\\\\"type\\\\\\\\\\\\\\\": 2, \\\\\\\\\\\\\\\"details\\\\\\\\\\\\\\\": {\\\\\\\\\\\\\\\"selectedColumn\\\\\\\\\\\\\\\": \\\\\\\\\\\\\\\"Age\\\\\\\\\\\\\\\"}}, \\\\\\\\\\\\\\\"typeProperty\\\\\\\\\\\\\\\": 2}, {\\\\\\\\\\\\\\\"column\\\\\\\\\\\\\\\": {\\\\\\\\\\\\\\\"type\\\\\\\\\\\\\\\": 2, \\\\\\\\\\\\\\\"details\\\\\\\\\\\\\\\": {\\\\\\\\\\\\\\\"selectedColumn\\\\\\\\\\\\\\\": \\\\\\\\\\\\\\\"Outcome\\\\\\\\\\\\\\\"}}, \\\\\\\\\\\\\\\"typeProperty\\\\\\\\\\\\\\\": 2}]}, \\\\\\\\\\\\\\\"localData\\\\\\\\\\\\\\\": {}, \\\\\\\\\\\\\\\"isEnabled\\\\\\\\\\\\\\\": true, \\\\\\\\\\\\\\\"name\\\\\\\\\\\\\\\": null, \\\\\\\\\\\\\\\"annotation\\\\\\\\\\\\\\\": null}], \\\\\\\\\\\\\\\"inspectors\\\\\\\\\\\\\\\": [], \\\\\\\\\\\\\\\"meta\\\\\\\\\\\\\\\": {\\\\\\\\\\\\\\\"savedDatasetId\\\\\\\\\\\\\\\": \\\\\\\\\\\\\\\"bf6ad8d0-dc94-46ee-abb3-b5b7cd93f4a0\\\\\\\\\\\\\\\", \\\\\\\\\\\\\\\"datasetType\\\\\\\\\\\\\\\": \\\\\\\\\\\\\\\"tabular\\\\\\\\\\\\\\\", \\\\\\\\\\\\\\\"subscriptionId\\\\\\\\\\\\\\\": \\\\\\\\\\\\\\\"48a74bb7-9950-4cc1-9caa-5d50f995cc55\\\\\\\\\\\\\\\", \\\\\\\\\\\\\\\"workspaceId\\\\\\\\\\\\\\\": \\\\\\\\\\\\\\\"9891ddb8-90d1-4100-80a5-da7217001473\\\\\\\\\\\\\\\", \\\\\\\\\\\\\\\"workspaceLocation\\\\\\\\\\\\\\\": \\\\\\\\\\\\\\\"southcentralus\\\\\\\\\\\\\\\"}}\\\\\\\", \\\\\\\"activities\\\\\\\": 0}\", \"EnableSubsampling\": \"False\", \"runTemplate\": \"AutoML\", \"azureml.runsource\": \"automl\", \"display_task_type\": \"classification\", \"dependencies_versions\": \"{\\\"azureml-widgets\\\": \\\"1.19.0\\\", \\\"azureml-train\\\": \\\"1.19.0\\\", \\\"azureml-train-restclients-hyperdrive\\\": \\\"1.19.0\\\", \\\"azureml-train-core\\\": \\\"1.19.0\\\", \\\"azureml-train-automl\\\": \\\"1.19.0\\\", \\\"azureml-train-automl-runtime\\\": \\\"1.19.0\\\", \\\"azureml-train-automl-client\\\": \\\"1.19.0\\\", \\\"azureml-tensorboard\\\": \\\"1.19.0\\\", \\\"azureml-telemetry\\\": \\\"1.19.0\\\", \\\"azureml-sdk\\\": \\\"1.19.0\\\", \\\"azureml-samples\\\": \\\"0+unknown\\\", \\\"azureml-pipeline\\\": \\\"1.19.0\\\", \\\"azureml-pipeline-steps\\\": \\\"1.19.0\\\", \\\"azureml-pipeline-core\\\": \\\"1.19.0\\\", \\\"azureml-opendatasets\\\": \\\"1.19.0\\\", \\\"azureml-model-management-sdk\\\": \\\"1.0.1b6.post1\\\", \\\"azureml-mlflow\\\": \\\"1.19.0\\\", \\\"azureml-interpret\\\": \\\"1.19.0\\\", \\\"azureml-explain-model\\\": \\\"1.19.0\\\", \\\"azureml-defaults\\\": \\\"1.19.0\\\", \\\"azureml-dataset-runtime\\\": \\\"1.19.0\\\", \\\"azureml-dataprep\\\": \\\"2.6.1\\\", \\\"azureml-dataprep-rslex\\\": \\\"1.4.0\\\", \\\"azureml-dataprep-native\\\": \\\"26.0.0\\\", \\\"azureml-datadrift\\\": \\\"1.19.0\\\", \\\"azureml-core\\\": \\\"1.19.0\\\", \\\"azureml-contrib-services\\\": \\\"1.19.0\\\", \\\"azureml-contrib-server\\\": \\\"1.19.0\\\", \\\"azureml-contrib-reinforcementlearning\\\": \\\"1.19.0\\\", \\\"azureml-contrib-pipeline-steps\\\": \\\"1.19.0\\\", \\\"azureml-contrib-notebook\\\": \\\"1.19.0\\\", \\\"azureml-contrib-interpret\\\": \\\"1.19.0\\\", \\\"azureml-contrib-gbdt\\\": \\\"1.19.0\\\", \\\"azureml-contrib-fairness\\\": \\\"1.19.0\\\", \\\"azureml-contrib-dataset\\\": \\\"1.19.0\\\", \\\"azureml-cli-common\\\": \\\"1.19.0\\\", \\\"azureml-automl-runtime\\\": \\\"1.19.0\\\", \\\"azureml-automl-core\\\": \\\"1.19.0\\\", \\\"azureml-accel-models\\\": \\\"1.19.0\\\"}\", \"_aml_system_scenario_identification\": \"Remote.Parent\", \"ClientType\": \"SDK\", \"environment_cpu_name\": \"AzureML-AutoML\", \"environment_cpu_label\": \"prod\", \"environment_gpu_name\": \"AzureML-AutoML-GPU\", \"environment_gpu_label\": \"prod\", \"root_attribution\": \"automl\", \"attribution\": \"AutoML\", \"Orchestrator\": \"AutoML\", \"CancelUri\": \"https://southcentralus.experiments.azureml.net/jasmine/v1.0/subscriptions/48a74bb7-9950-4cc1-9caa-5d50f995cc55/resourceGroups/aml-quickstarts-134046/providers/Microsoft.MachineLearningServices/workspaces/quick-starts-ws-134046/experimentids/fa8aafee-29e1-4917-821c-9cc39b93e70b/cancel/AutoML_25f8d913-9778-4444-a10c-8acd597ad2b9\", \"ClientSdkVersion\": \"1.19.0\", \"snapshotId\": \"00000000-0000-0000-0000-000000000000\", \"SetupRunId\": \"AutoML_25f8d913-9778-4444-a10c-8acd597ad2b9_setup\", \"SetupRunContainerId\": \"dcid.AutoML_25f8d913-9778-4444-a10c-8acd597ad2b9_setup\", \"FeaturizationRunJsonPath\": \"featurizer_container.json\", \"FeaturizationRunId\": \"AutoML_25f8d913-9778-4444-a10c-8acd597ad2b9_featurize\", \"ProblemInfoJsonString\": \"{\\\"dataset_num_categorical\\\": 0, \\\"is_sparse\\\": false, \\\"subsampling\\\": false, \\\"dataset_classes\\\": 2, \\\"dataset_features\\\": 8, \\\"dataset_samples\\\": 768, \\\"single_frequency_class_detected\\\": false}\", \"ModelExplainRunId\": \"AutoML_25f8d913-9778-4444-a10c-8acd597ad2b9_ModelExplain\"}, \"tags\": {\"model_explain_run\": \"best_run\", \"_aml_system_azureml.automlComponent\": \"AutoML\", \"pipeline_id\": \"\", \"score\": \"\", \"predicted_cost\": \"\", \"fit_time\": \"\", \"training_percent\": \"\", \"iteration\": \"\", \"run_preprocessor\": \"\", \"run_algorithm\": \"\", \"automl_best_child_run_id\": \"AutoML_25f8d913-9778-4444-a10c-8acd597ad2b9_22\", \"model_explain_best_run_child_id\": \"AutoML_25f8d913-9778-4444-a10c-8acd597ad2b9_22\"}, \"end_time_utc\": \"2021-01-09T05:26:45.361481Z\", \"status\": \"Completed\", \"log_files\": {}, \"log_groups\": [], \"run_duration\": \"0:24:08\"}, \"child_runs\": [{\"run_id\": \"AutoML_25f8d913-9778-4444-a10c-8acd597ad2b9_0\", \"run_number\": 31, \"metric\": null, \"status\": \"Completed\", \"run_type\": \"azureml.scriptrun\", \"training_percent\": \"100\", \"start_time\": \"2021-01-09T05:20:00.657827Z\", \"end_time\": \"2021-01-09T05:20:47.381327Z\", \"created_time\": \"2021-01-09T05:17:58.604063Z\", \"created_time_dt\": \"2021-01-09T05:17:58.604063Z\", \"duration\": \"0:02:48\", \"iteration\": \"0\", \"goal\": \"accuracy_max\", \"run_name\": \"MaxAbsScaler, LightGBM\", \"run_properties\": \"copy=True\", \"primary_metric\": 0.7513369, \"best_metric\": 0.7513369}, {\"run_id\": \"AutoML_25f8d913-9778-4444-a10c-8acd597ad2b9_2\", \"run_number\": 32, \"metric\": null, \"status\": \"Completed\", \"run_type\": \"azureml.scriptrun\", \"training_percent\": \"100\", \"start_time\": \"2021-01-09T05:19:02.389502Z\", \"end_time\": \"2021-01-09T05:19:53.239816Z\", \"created_time\": \"2021-01-09T05:17:58.723503Z\", \"created_time_dt\": \"2021-01-09T05:17:58.723503Z\", \"duration\": \"0:01:54\", \"iteration\": \"2\", \"goal\": \"accuracy_max\", \"run_name\": \"MinMaxScaler, RandomForest\", \"run_properties\": \"copy=True, feature_range=(0, 1\", \"primary_metric\": 0.76698073, \"best_metric\": 0.77478992}, {\"run_id\": \"AutoML_25f8d913-9778-4444-a10c-8acd597ad2b9_5\", \"run_number\": 33, \"metric\": null, \"status\": \"Completed\", \"run_type\": \"azureml.scriptrun\", \"training_percent\": \"100\", \"start_time\": \"2021-01-09T05:20:52.4603Z\", \"end_time\": \"2021-01-09T05:21:37.704048Z\", \"created_time\": \"2021-01-09T05:17:58.753303Z\", \"created_time_dt\": \"2021-01-09T05:17:58.753303Z\", \"duration\": \"0:03:38\", \"iteration\": \"5\", \"goal\": \"accuracy_max\", \"run_name\": \"StandardScalerWrapper, XGBoostClassifier\", \"run_properties\": \"<azureml.automl.runtime.shared.model_wrappers.StandardScalerWrapper object at 0x7f902de91da0\", \"primary_metric\": 0.74356167, \"best_metric\": 0.77478992}, {\"run_id\": \"AutoML_25f8d913-9778-4444-a10c-8acd597ad2b9_4\", \"run_number\": 34, \"metric\": null, \"status\": \"Completed\", \"run_type\": \"azureml.scriptrun\", \"training_percent\": \"100\", \"start_time\": \"2021-01-09T05:19:11.818333Z\", \"end_time\": \"2021-01-09T05:20:00.345185Z\", \"created_time\": \"2021-01-09T05:17:58.771081Z\", \"created_time_dt\": \"2021-01-09T05:17:58.771081Z\", \"duration\": \"0:02:01\", \"iteration\": \"4\", \"goal\": \"accuracy_max\", \"run_name\": \"MinMaxScaler, RandomForest\", \"run_properties\": \"copy=True, feature_range=(0, 1\", \"primary_metric\": 0.74872252, \"best_metric\": 0.77478992}, {\"run_id\": \"AutoML_25f8d913-9778-4444-a10c-8acd597ad2b9_1\", \"run_number\": 35, \"metric\": null, \"status\": \"Completed\", \"run_type\": \"azureml.scriptrun\", \"training_percent\": \"100\", \"start_time\": \"2021-01-09T05:19:50.339655Z\", \"end_time\": \"2021-01-09T05:20:58.333096Z\", \"created_time\": \"2021-01-09T05:17:58.863559Z\", \"created_time_dt\": \"2021-01-09T05:17:58.863559Z\", \"duration\": \"0:02:59\", \"iteration\": \"1\", \"goal\": \"accuracy_max\", \"run_name\": \"MaxAbsScaler, XGBoostClassifier\", \"run_properties\": \"copy=True\", \"primary_metric\": 0.77478992, \"best_metric\": 0.77478992}, {\"run_id\": \"AutoML_25f8d913-9778-4444-a10c-8acd597ad2b9_6\", \"run_number\": 36, \"metric\": null, \"status\": \"Completed\", \"run_type\": \"azureml.scriptrun\", \"training_percent\": \"100\", \"start_time\": \"2021-01-09T05:19:57.91366Z\", \"end_time\": \"2021-01-09T05:20:48.82102Z\", \"created_time\": \"2021-01-09T05:17:58.905251Z\", \"created_time_dt\": \"2021-01-09T05:17:58.905251Z\", \"duration\": \"0:02:49\", \"iteration\": \"6\", \"goal\": \"accuracy_max\", \"run_name\": \"MinMaxScaler, LightGBM\", \"run_properties\": \"copy=True, feature_range=(0, 1\", \"primary_metric\": 0.75654868, \"best_metric\": 0.77478992}, {\"run_id\": \"AutoML_25f8d913-9778-4444-a10c-8acd597ad2b9_3\", \"run_number\": 37, \"metric\": null, \"status\": \"Completed\", \"run_type\": \"azureml.scriptrun\", \"training_percent\": \"100\", \"start_time\": \"2021-01-09T05:20:53.076929Z\", \"end_time\": \"2021-01-09T05:21:33.102428Z\", \"created_time\": \"2021-01-09T05:17:59.036265Z\", \"created_time_dt\": \"2021-01-09T05:17:59.036265Z\", \"duration\": \"0:03:34\", \"iteration\": \"3\", \"goal\": \"accuracy_max\", \"run_name\": \"MinMaxScaler, RandomForest\", \"run_properties\": \"copy=True, feature_range=(0, 1\", \"primary_metric\": 0.76957813, \"best_metric\": 0.77478992}, {\"run_id\": \"AutoML_25f8d913-9778-4444-a10c-8acd597ad2b9_7\", \"run_number\": 38, \"metric\": null, \"status\": \"Completed\", \"run_type\": \"azureml.scriptrun\", \"training_percent\": \"100\", \"start_time\": \"2021-01-09T05:19:50.160951Z\", \"end_time\": \"2021-01-09T05:20:53.601351Z\", \"created_time\": \"2021-01-09T05:17:58.772407Z\", \"created_time_dt\": \"2021-01-09T05:17:58.772407Z\", \"duration\": \"0:02:54\", \"iteration\": \"7\", \"goal\": \"accuracy_max\", \"run_name\": \"StandardScalerWrapper, KNN\", \"run_properties\": \"<azureml.automl.runtime.shared.model_wrappers.StandardScalerWrapper object at 0x7fe560374d30\", \"primary_metric\": 0.75131992, \"best_metric\": 0.77478992}, {\"run_id\": \"AutoML_25f8d913-9778-4444-a10c-8acd597ad2b9_8\", \"run_number\": 41, \"metric\": null, \"status\": \"Completed\", \"run_type\": \"azureml.scriptrun\", \"training_percent\": \"100\", \"start_time\": \"2021-01-09T05:21:37.956661Z\", \"end_time\": \"2021-01-09T05:22:24.773423Z\", \"created_time\": \"2021-01-09T05:19:58.842291Z\", \"created_time_dt\": \"2021-01-09T05:19:58.842291Z\", \"duration\": \"0:02:25\", \"iteration\": \"8\", \"goal\": \"accuracy_max\", \"run_name\": \"StandardScalerWrapper, LightGBM\", \"run_properties\": \"<azureml.automl.runtime.shared.model_wrappers.StandardScalerWrapper object at 0x7fa07405f9b0\", \"primary_metric\": 0.75264409, \"best_metric\": 0.77478992}, {\"run_id\": \"AutoML_25f8d913-9778-4444-a10c-8acd597ad2b9_9\", \"run_number\": 42, \"metric\": null, \"status\": \"Completed\", \"run_type\": \"azureml.scriptrun\", \"training_percent\": \"100\", \"start_time\": \"2021-01-09T05:21:40.094151Z\", \"end_time\": \"2021-01-09T05:22:25.97149Z\", \"created_time\": \"2021-01-09T05:20:02.642026Z\", \"created_time_dt\": \"2021-01-09T05:20:02.642026Z\", \"duration\": \"0:02:23\", \"iteration\": \"9\", \"goal\": \"accuracy_max\", \"run_name\": \"MinMaxScaler, SVM\", \"run_properties\": \"copy=True, feature_range=(0, 1\", \"primary_metric\": 0.72399627, \"best_metric\": 0.77478992}, {\"run_id\": \"AutoML_25f8d913-9778-4444-a10c-8acd597ad2b9_10\", \"run_number\": 43, \"metric\": null, \"status\": \"Completed\", \"run_type\": \"azureml.scriptrun\", \"training_percent\": \"100\", \"start_time\": \"2021-01-09T05:22:11.00744Z\", \"end_time\": \"2021-01-09T05:22:58.099892Z\", \"created_time\": \"2021-01-09T05:20:49.50805Z\", \"created_time_dt\": \"2021-01-09T05:20:49.50805Z\", \"duration\": \"0:02:08\", \"iteration\": \"10\", \"goal\": \"accuracy_max\", \"run_name\": \"SparseNormalizer, XGBoostClassifier\", \"run_properties\": \"<azureml.automl.runtime.shared.model_wrappers.SparseNormalizer object at 0x7f4a8b2e89e8\", \"primary_metric\": 0.68236143, \"best_metric\": 0.77478992}, {\"run_id\": \"AutoML_25f8d913-9778-4444-a10c-8acd597ad2b9_11\", \"run_number\": 44, \"metric\": null, \"status\": \"Completed\", \"run_type\": \"azureml.scriptrun\", \"training_percent\": \"100\", \"start_time\": \"2021-01-09T05:22:15.059641Z\", \"end_time\": \"2021-01-09T05:23:05.42479Z\", \"created_time\": \"2021-01-09T05:20:53.419999Z\", \"created_time_dt\": \"2021-01-09T05:20:53.419999Z\", \"duration\": \"0:02:12\", \"iteration\": \"11\", \"goal\": \"accuracy_max\", \"run_name\": \"SparseNormalizer, XGBoostClassifier\", \"run_properties\": \"<azureml.automl.runtime.shared.model_wrappers.SparseNormalizer object at 0x7fc7b2941fd0\", \"primary_metric\": 0.69018759, \"best_metric\": 0.77478992}, {\"run_id\": \"AutoML_25f8d913-9778-4444-a10c-8acd597ad2b9_12\", \"run_number\": 45, \"metric\": null, \"status\": \"Completed\", \"run_type\": \"azureml.scriptrun\", \"training_percent\": \"100\", \"start_time\": \"2021-01-09T05:22:26.878154Z\", \"end_time\": \"2021-01-09T05:23:15.711733Z\", \"created_time\": \"2021-01-09T05:20:58.778737Z\", \"created_time_dt\": \"2021-01-09T05:20:58.778737Z\", \"duration\": \"0:02:16\", \"iteration\": \"12\", \"goal\": \"accuracy_max\", \"run_name\": \"RobustScaler, SVM\", \"run_properties\": \"copy=True, quantile_range=[10, 90], with_centering=True,\\n             with_scaling=True\", \"primary_metric\": 0.7331381, \"best_metric\": 0.77478992}, {\"run_id\": \"AutoML_25f8d913-9778-4444-a10c-8acd597ad2b9_13\", \"run_number\": 46, \"metric\": null, \"status\": \"Completed\", \"run_type\": \"azureml.scriptrun\", \"training_percent\": \"100\", \"start_time\": \"2021-01-09T05:22:26.380491Z\", \"end_time\": \"2021-01-09T05:23:13.98567Z\", \"created_time\": \"2021-01-09T05:21:02.684492Z\", \"created_time_dt\": \"2021-01-09T05:21:02.684492Z\", \"duration\": \"0:02:11\", \"iteration\": \"13\", \"goal\": \"accuracy_max\", \"run_name\": \"StandardScalerWrapper, XGBoostClassifier\", \"run_properties\": \"<azureml.automl.runtime.shared.model_wrappers.StandardScalerWrapper object at 0x7f6407a8bf60\", \"primary_metric\": 0.73312113, \"best_metric\": 0.77478992}, {\"run_id\": \"AutoML_25f8d913-9778-4444-a10c-8acd597ad2b9_14\", \"run_number\": 47, \"metric\": null, \"status\": \"Completed\", \"run_type\": \"azureml.scriptrun\", \"training_percent\": \"100\", \"start_time\": \"2021-01-09T05:23:00.476637Z\", \"end_time\": \"2021-01-09T05:23:44.661649Z\", \"created_time\": \"2021-01-09T05:21:34.720414Z\", \"created_time_dt\": \"2021-01-09T05:21:34.720414Z\", \"duration\": \"0:02:09\", \"iteration\": \"14\", \"goal\": \"accuracy_max\", \"run_name\": \"SparseNormalizer, XGBoostClassifier\", \"run_properties\": \"<azureml.automl.runtime.shared.model_wrappers.SparseNormalizer object at 0x7f44be4d9a20\", \"primary_metric\": 0.67973856, \"best_metric\": 0.77478992}, {\"run_id\": \"AutoML_25f8d913-9778-4444-a10c-8acd597ad2b9_15\", \"run_number\": 48, \"metric\": null, \"status\": \"Completed\", \"run_type\": \"azureml.scriptrun\", \"training_percent\": \"100\", \"start_time\": \"2021-01-09T05:23:09.132342Z\", \"end_time\": \"2021-01-09T05:24:10.662505Z\", \"created_time\": \"2021-01-09T05:21:40.44507Z\", \"created_time_dt\": \"2021-01-09T05:21:40.44507Z\", \"duration\": \"0:02:30\", \"iteration\": \"15\", \"goal\": \"accuracy_max\", \"run_name\": \"SparseNormalizer, XGBoostClassifier\", \"run_properties\": \"<azureml.automl.runtime.shared.model_wrappers.SparseNormalizer object at 0x7fd84806b710\", \"primary_metric\": 0.67329599, \"best_metric\": 0.77478992}, {\"run_id\": \"AutoML_25f8d913-9778-4444-a10c-8acd597ad2b9_16\", \"run_number\": 50, \"metric\": null, \"status\": \"Completed\", \"run_type\": \"azureml.scriptrun\", \"training_percent\": \"100\", \"start_time\": \"2021-01-09T05:23:15.844998Z\", \"end_time\": \"2021-01-09T05:24:09.186464Z\", \"created_time\": \"2021-01-09T05:22:26.558486Z\", \"created_time_dt\": \"2021-01-09T05:22:26.558486Z\", \"duration\": \"0:01:42\", \"iteration\": \"16\", \"goal\": \"accuracy_max\", \"run_name\": \"StandardScalerWrapper, LightGBM\", \"run_properties\": \"<azureml.automl.runtime.shared.model_wrappers.StandardScalerWrapper object at 0x7f143c647ef0\", \"primary_metric\": 0.75522451, \"best_metric\": 0.77478992}, {\"run_id\": \"AutoML_25f8d913-9778-4444-a10c-8acd597ad2b9_17\", \"run_number\": 51, \"metric\": null, \"status\": \"Completed\", \"run_type\": \"azureml.scriptrun\", \"training_percent\": \"100\", \"start_time\": \"2021-01-09T05:23:19.528899Z\", \"end_time\": \"2021-01-09T05:24:09.386389Z\", \"created_time\": \"2021-01-09T05:22:30.34484Z\", \"created_time_dt\": \"2021-01-09T05:22:30.34484Z\", \"duration\": \"0:01:39\", \"iteration\": \"17\", \"goal\": \"accuracy_max\", \"run_name\": \"SparseNormalizer, GradientBoosting\", \"run_properties\": \"<azureml.automl.runtime.shared.model_wrappers.SparseNormalizer object at 0x7fb2ed615208\", \"primary_metric\": 0.6719124, \"best_metric\": 0.77478992}, {\"run_id\": \"AutoML_25f8d913-9778-4444-a10c-8acd597ad2b9_18\", \"run_number\": 52, \"metric\": null, \"status\": \"Completed\", \"run_type\": \"azureml.scriptrun\", \"training_percent\": \"100\", \"start_time\": \"2021-01-09T05:23:45.861826Z\", \"end_time\": \"2021-01-09T05:24:27.07342Z\", \"created_time\": \"2021-01-09T05:23:03.622396Z\", \"created_time_dt\": \"2021-01-09T05:23:03.622396Z\", \"duration\": \"0:01:23\", \"iteration\": \"18\", \"goal\": \"accuracy_max\", \"run_name\": \"StandardScalerWrapper, RandomForest\", \"run_properties\": \"<azureml.automl.runtime.shared.model_wrappers.StandardScalerWrapper object at 0x7f73aef47e10\", \"primary_metric\": 0.75006366, \"best_metric\": 0.77478992}, {\"run_id\": \"AutoML_25f8d913-9778-4444-a10c-8acd597ad2b9_19\", \"run_number\": 53, \"metric\": null, \"status\": \"Completed\", \"run_type\": \"azureml.scriptrun\", \"training_percent\": \"100\", \"start_time\": \"2021-01-09T05:24:10.084091Z\", \"end_time\": \"2021-01-09T05:25:07.847743Z\", \"created_time\": \"2021-01-09T05:23:07.107381Z\", \"created_time_dt\": \"2021-01-09T05:23:07.107381Z\", \"duration\": \"0:02:00\", \"iteration\": \"19\", \"goal\": \"accuracy_max\", \"run_name\": \"MaxAbsScaler, LightGBM\", \"run_properties\": \"copy=True\", \"primary_metric\": 0.74878194, \"best_metric\": 0.77478992}, {\"run_id\": \"AutoML_25f8d913-9778-4444-a10c-8acd597ad2b9_20\", \"run_number\": 54, \"metric\": null, \"status\": \"Completed\", \"run_type\": \"azureml.scriptrun\", \"training_percent\": \"100\", \"start_time\": \"2021-01-09T05:24:10.182506Z\", \"end_time\": \"2021-01-09T05:24:58.0162Z\", \"created_time\": \"2021-01-09T05:23:15.858177Z\", \"created_time_dt\": \"2021-01-09T05:23:15.858177Z\", \"duration\": \"0:01:42\", \"iteration\": \"20\", \"goal\": \"accuracy_max\", \"run_name\": \"MaxAbsScaler, LightGBM\", \"run_properties\": \"copy=True\", \"primary_metric\": 0.75526696, \"best_metric\": 0.77478992}, {\"run_id\": \"AutoML_25f8d913-9778-4444-a10c-8acd597ad2b9_21\", \"run_number\": 55, \"metric\": null, \"status\": \"Completed\", \"run_type\": \"azureml.scriptrun\", \"training_percent\": \"100\", \"start_time\": \"2021-01-09T05:24:14.286885Z\", \"end_time\": \"2021-01-09T05:24:58.54672Z\", \"created_time\": \"2021-01-09T05:23:20.255956Z\", \"created_time_dt\": \"2021-01-09T05:23:20.255956Z\", \"duration\": \"0:01:38\", \"iteration\": \"21\", \"goal\": \"accuracy_max\", \"run_name\": \"StandardScalerWrapper, GradientBoosting\", \"run_properties\": \"<azureml.automl.runtime.shared.model_wrappers.StandardScalerWrapper object at 0x7f051d6c86d8\", \"primary_metric\": 0.76047025, \"best_metric\": 0.77478992}, {\"run_id\": \"AutoML_25f8d913-9778-4444-a10c-8acd597ad2b9_22\", \"run_number\": 56, \"metric\": null, \"status\": \"Completed\", \"run_type\": \"azureml.scriptrun\", \"training_percent\": \"100\", \"start_time\": \"2021-01-09T05:25:21.07287Z\", \"end_time\": \"2021-01-09T05:26:33.041838Z\", \"created_time\": \"2021-01-09T05:25:08.707135Z\", \"created_time_dt\": \"2021-01-09T05:25:08.707135Z\", \"duration\": \"0:01:24\", \"iteration\": \"22\", \"goal\": \"accuracy_max\", \"run_name\": \"VotingEnsemble\", \"run_properties\": \"classification_labels=None,\\n                              estimators=[('1',\\n                                           Pipeline(memory=None,\\n                                                    steps=[('maxabsscaler',\\n                                                            MaxAbsScaler(copy=True\", \"primary_metric\": 0.78781088, \"best_metric\": 0.78781088}, {\"run_id\": \"AutoML_25f8d913-9778-4444-a10c-8acd597ad2b9_23\", \"run_number\": 57, \"metric\": null, \"status\": \"Completed\", \"run_type\": \"azureml.scriptrun\", \"training_percent\": \"100\", \"start_time\": \"2021-01-09T05:25:20.547718Z\", \"end_time\": \"2021-01-09T05:26:34.13181Z\", \"created_time\": \"2021-01-09T05:25:08.771293Z\", \"created_time_dt\": \"2021-01-09T05:25:08.771293Z\", \"duration\": \"0:01:25\", \"iteration\": \"23\", \"goal\": \"accuracy_max\", \"run_name\": \"StackEnsemble\", \"run_properties\": \"base_learners=[('1',\\n                                        Pipeline(memory=None,\\n                                                 steps=[('maxabsscaler',\\n                                                         MaxAbsScaler(copy=True\", \"primary_metric\": 0.7774043, \"best_metric\": 0.78781088}], \"children_metrics\": {\"categories\": [0], \"series\": {\"average_precision_score_macro\": [{\"categories\": [\"0\", \"1\", \"2\", \"3\", \"4\", \"5\", \"6\", \"7\", \"8\", \"9\", \"10\", \"11\", \"12\", \"13\", \"14\", \"15\", \"16\", \"17\", \"18\", \"19\", \"20\", \"21\", \"22\", \"23\"], \"mode\": \"markers\", \"name\": \"average_precision_score_macro\", \"stepped\": false, \"type\": \"scatter\", \"data\": [0.784919621024474, 0.8142890940640708, 0.8104684119112013, 0.8071381680047217, 0.8052854675841326, 0.7831899835199903, 0.8034462927413017, 0.7677639942795522, 0.8101612001225267, 0.7447387405382881, 0.67432600426497, 0.6705217302886253, 0.7481620913057603, 0.7940088278226551, 0.6613189166359238, 0.6906972672903299, 0.8158469699936577, 0.6731758930417754, 0.7987650990502141, 0.8019340130283122, 0.8053328649594315, 0.801174040989857, 0.8165770266762726, 0.8143201274464248]}, {\"categories\": [\"0\", \"1\", \"2\", \"3\", \"4\", \"5\", \"6\", \"7\", \"8\", \"9\", \"10\", \"11\", \"12\", \"13\", \"14\", \"15\", \"16\", \"17\", \"18\", \"19\", \"20\", \"21\", \"22\", \"23\"], \"mode\": \"lines\", \"name\": \"average_precision_score_macro_max\", \"stepped\": true, \"type\": \"scatter\", \"data\": [0.784919621024474, 0.8142890940640708, 0.8142890940640708, 0.8142890940640708, 0.8142890940640708, 0.8142890940640708, 0.8142890940640708, 0.8142890940640708, 0.8142890940640708, 0.8142890940640708, 0.8142890940640708, 0.8142890940640708, 0.8142890940640708, 0.8142890940640708, 0.8142890940640708, 0.8142890940640708, 0.8158469699936577, 0.8158469699936577, 0.8158469699936577, 0.8158469699936577, 0.8158469699936577, 0.8158469699936577, 0.8165770266762726, 0.8165770266762726]}], \"AUC_micro\": [{\"categories\": [\"0\", \"1\", \"2\", \"3\", \"4\", \"5\", \"6\", \"7\", \"8\", \"9\", \"10\", \"11\", \"12\", \"13\", \"14\", \"15\", \"16\", \"17\", \"18\", \"19\", \"20\", \"21\", \"22\", \"23\"], \"mode\": \"markers\", \"name\": \"AUC_micro\", \"stepped\": false, \"type\": \"scatter\", \"data\": [0.8303765954427288, 0.8546512488572736, 0.8488206964667068, 0.8422274867922646, 0.8388579411310427, 0.8295202875618999, 0.8448189167814986, 0.8234305209507055, 0.8495376785547399, 0.805993804641178, 0.7433469395968834, 0.73827677922931, 0.8043140229137622, 0.8365671730079525, 0.7366151502103209, 0.7570938460189348, 0.8535534496843085, 0.7438243656633685, 0.8353133467867062, 0.8274059785062047, 0.8416846970697387, 0.8396984613539684, 0.8560088159572873, 0.8538262126003104]}, {\"categories\": [\"0\", \"1\", \"2\", \"3\", \"4\", \"5\", \"6\", \"7\", \"8\", \"9\", \"10\", \"11\", \"12\", \"13\", \"14\", \"15\", \"16\", \"17\", \"18\", \"19\", \"20\", \"21\", \"22\", \"23\"], \"mode\": \"lines\", \"name\": \"AUC_micro_max\", \"stepped\": true, \"type\": \"scatter\", \"data\": [0.8303765954427288, 0.8546512488572736, 0.8546512488572736, 0.8546512488572736, 0.8546512488572736, 0.8546512488572736, 0.8546512488572736, 0.8546512488572736, 0.8546512488572736, 0.8546512488572736, 0.8546512488572736, 0.8546512488572736, 0.8546512488572736, 0.8546512488572736, 0.8546512488572736, 0.8546512488572736, 0.8546512488572736, 0.8546512488572736, 0.8546512488572736, 0.8546512488572736, 0.8546512488572736, 0.8546512488572736, 0.8560088159572873, 0.8560088159572873]}], \"f1_score_weighted\": [{\"categories\": [\"0\", \"1\", \"2\", \"3\", \"4\", \"5\", \"6\", \"7\", \"8\", \"9\", \"10\", \"11\", \"12\", \"13\", \"14\", \"15\", \"16\", \"17\", \"18\", \"19\", \"20\", \"21\", \"22\", \"23\"], \"mode\": \"markers\", \"name\": \"f1_score_weighted\", \"stepped\": false, \"type\": \"scatter\", \"data\": [0.7482755360833722, 0.7726560968216545, 0.7588775888930412, 0.7606473114721491, 0.751730177527206, 0.7404546956708015, 0.7552108426951347, 0.7437307920848204, 0.7467791066270786, 0.7003452085239779, 0.6698044378678347, 0.6805234923727063, 0.7206503503819055, 0.7304046588435306, 0.6636827616932897, 0.6603718229234476, 0.7473180096698278, 0.6131322210382405, 0.7323768476747147, 0.723399871486714, 0.7409268487027091, 0.7481284685341927, 0.7820330194502861, 0.7716925774001169]}, {\"categories\": [\"0\", \"1\", \"2\", \"3\", \"4\", \"5\", \"6\", \"7\", \"8\", \"9\", \"10\", \"11\", \"12\", \"13\", \"14\", \"15\", \"16\", \"17\", \"18\", \"19\", \"20\", \"21\", \"22\", \"23\"], \"mode\": \"lines\", \"name\": \"f1_score_weighted_max\", \"stepped\": true, \"type\": \"scatter\", \"data\": [0.7482755360833722, 0.7726560968216545, 0.7726560968216545, 0.7726560968216545, 0.7726560968216545, 0.7726560968216545, 0.7726560968216545, 0.7726560968216545, 0.7726560968216545, 0.7726560968216545, 0.7726560968216545, 0.7726560968216545, 0.7726560968216545, 0.7726560968216545, 0.7726560968216545, 0.7726560968216545, 0.7726560968216545, 0.7726560968216545, 0.7726560968216545, 0.7726560968216545, 0.7726560968216545, 0.7726560968216545, 0.7820330194502861, 0.7820330194502861]}], \"precision_score_micro\": [{\"categories\": [\"0\", \"1\", \"2\", \"3\", \"4\", \"5\", \"6\", \"7\", \"8\", \"9\", \"10\", \"11\", \"12\", \"13\", \"14\", \"15\", \"16\", \"17\", \"18\", \"19\", \"20\", \"21\", \"22\", \"23\"], \"mode\": \"markers\", \"name\": \"precision_score_micro\", \"stepped\": false, \"type\": \"scatter\", \"data\": [0.7513368983957219, 0.7747899159663865, 0.766980731686614, 0.7695781342840167, 0.7487225193107546, 0.7435616670910787, 0.7565486800780918, 0.7513199219081572, 0.7526440879382056, 0.7239962651727356, 0.682361429420253, 0.6901875901875902, 0.733138103726339, 0.7331211272387743, 0.6797385620915033, 0.6732959850606909, 0.7552245140480435, 0.671912401324166, 0.7500636618283677, 0.7487819370172311, 0.7552669552669553, 0.7604702487055428, 0.787810881928529, 0.7774042950513538]}, {\"categories\": [\"0\", \"1\", \"2\", \"3\", \"4\", \"5\", \"6\", \"7\", \"8\", \"9\", \"10\", \"11\", \"12\", \"13\", \"14\", \"15\", \"16\", \"17\", \"18\", \"19\", \"20\", \"21\", \"22\", \"23\"], \"mode\": \"lines\", \"name\": \"precision_score_micro_max\", \"stepped\": true, \"type\": \"scatter\", \"data\": [0.7513368983957219, 0.7747899159663865, 0.7747899159663865, 0.7747899159663865, 0.7747899159663865, 0.7747899159663865, 0.7747899159663865, 0.7747899159663865, 0.7747899159663865, 0.7747899159663865, 0.7747899159663865, 0.7747899159663865, 0.7747899159663865, 0.7747899159663865, 0.7747899159663865, 0.7747899159663865, 0.7747899159663865, 0.7747899159663865, 0.7747899159663865, 0.7747899159663865, 0.7747899159663865, 0.7747899159663865, 0.787810881928529, 0.787810881928529]}], \"recall_score_weighted\": [{\"categories\": [\"0\", \"1\", \"2\", \"3\", \"4\", \"5\", \"6\", \"7\", \"8\", \"9\", \"10\", \"11\", \"12\", \"13\", \"14\", \"15\", \"16\", \"17\", \"18\", \"19\", \"20\", \"21\", \"22\", \"23\"], \"mode\": \"markers\", \"name\": \"recall_score_weighted\", \"stepped\": false, \"type\": \"scatter\", \"data\": [0.7513368983957219, 0.7747899159663865, 0.766980731686614, 0.7695781342840167, 0.7487225193107546, 0.7435616670910787, 0.7565486800780918, 0.7513199219081572, 0.7526440879382056, 0.7239962651727356, 0.682361429420253, 0.6901875901875902, 0.733138103726339, 0.7331211272387743, 0.6797385620915033, 0.6732959850606909, 0.7552245140480435, 0.671912401324166, 0.7500636618283677, 0.7487819370172311, 0.7552669552669553, 0.7604702487055428, 0.787810881928529, 0.7774042950513538]}, {\"categories\": [\"0\", \"1\", \"2\", \"3\", \"4\", \"5\", \"6\", \"7\", \"8\", \"9\", \"10\", \"11\", \"12\", \"13\", \"14\", \"15\", \"16\", \"17\", \"18\", \"19\", \"20\", \"21\", \"22\", \"23\"], \"mode\": \"lines\", \"name\": \"recall_score_weighted_max\", \"stepped\": true, \"type\": \"scatter\", \"data\": [0.7513368983957219, 0.7747899159663865, 0.7747899159663865, 0.7747899159663865, 0.7747899159663865, 0.7747899159663865, 0.7747899159663865, 0.7747899159663865, 0.7747899159663865, 0.7747899159663865, 0.7747899159663865, 0.7747899159663865, 0.7747899159663865, 0.7747899159663865, 0.7747899159663865, 0.7747899159663865, 0.7747899159663865, 0.7747899159663865, 0.7747899159663865, 0.7747899159663865, 0.7747899159663865, 0.7747899159663865, 0.787810881928529, 0.787810881928529]}], \"norm_macro_recall\": [{\"categories\": [\"0\", \"1\", \"2\", \"3\", \"4\", \"5\", \"6\", \"7\", \"8\", \"9\", \"10\", \"11\", \"12\", \"13\", \"14\", \"15\", \"16\", \"17\", \"18\", \"19\", \"20\", \"21\", \"22\", \"23\"], \"mode\": \"markers\", \"name\": \"norm_macro_recall\", \"stepped\": false, \"type\": \"scatter\", \"data\": [0.4300800128686408, 0.4851579405299079, 0.4325865973760921, 0.43679272306081474, 0.47415179355287673, 0.4145345451352679, 0.4502006316290597, 0.4070728983120812, 0.4148040069403483, 0.2919922671358344, 0.2435318682686547, 0.2740717038052002, 0.3539987195910318, 0.3956013118802429, 0.22674455203309152, 0.23188532769197695, 0.4072935781171839, 0.12645652065418073, 0.3607782161027662, 0.33924658207179614, 0.38165906363709035, 0.4043409222813087, 0.4913453336663423, 0.46901659623000314]}, {\"categories\": [\"0\", \"1\", \"2\", \"3\", \"4\", \"5\", \"6\", \"7\", \"8\", \"9\", \"10\", \"11\", \"12\", \"13\", \"14\", \"15\", \"16\", \"17\", \"18\", \"19\", \"20\", \"21\", \"22\", \"23\"], \"mode\": \"lines\", \"name\": \"norm_macro_recall_max\", \"stepped\": true, \"type\": \"scatter\", \"data\": [0.4300800128686408, 0.4851579405299079, 0.4851579405299079, 0.4851579405299079, 0.4851579405299079, 0.4851579405299079, 0.4851579405299079, 0.4851579405299079, 0.4851579405299079, 0.4851579405299079, 0.4851579405299079, 0.4851579405299079, 0.4851579405299079, 0.4851579405299079, 0.4851579405299079, 0.4851579405299079, 0.4851579405299079, 0.4851579405299079, 0.4851579405299079, 0.4851579405299079, 0.4851579405299079, 0.4851579405299079, 0.4913453336663423, 0.4913453336663423]}], \"balanced_accuracy\": [{\"categories\": [\"0\", \"1\", \"2\", \"3\", \"4\", \"5\", \"6\", \"7\", \"8\", \"9\", \"10\", \"11\", \"12\", \"13\", \"14\", \"15\", \"16\", \"17\", \"18\", \"19\", \"20\", \"21\", \"22\", \"23\"], \"mode\": \"markers\", \"name\": \"balanced_accuracy\", \"stepped\": false, \"type\": \"scatter\", \"data\": [0.7150400064343204, 0.7425789702649539, 0.7162932986880461, 0.7183963615304074, 0.7370758967764384, 0.7072672725676339, 0.7251003158145299, 0.7035364491560406, 0.7074020034701741, 0.6459961335679172, 0.6217659341343273, 0.6370358519026, 0.6769993597955158, 0.6978006559401214, 0.6133722760165458, 0.6159426638459885, 0.703646789058592, 0.5632282603270904, 0.6803891080513832, 0.669623291035898, 0.6908295318185452, 0.7021704611406544, 0.7456726668331711, 0.7345082981150015]}, {\"categories\": [\"0\", \"1\", \"2\", \"3\", \"4\", \"5\", \"6\", \"7\", \"8\", \"9\", \"10\", \"11\", \"12\", \"13\", \"14\", \"15\", \"16\", \"17\", \"18\", \"19\", \"20\", \"21\", \"22\", \"23\"], \"mode\": \"lines\", \"name\": \"balanced_accuracy_max\", \"stepped\": true, \"type\": \"scatter\", \"data\": [0.7150400064343204, 0.7425789702649539, 0.7425789702649539, 0.7425789702649539, 0.7425789702649539, 0.7425789702649539, 0.7425789702649539, 0.7425789702649539, 0.7425789702649539, 0.7425789702649539, 0.7425789702649539, 0.7425789702649539, 0.7425789702649539, 0.7425789702649539, 0.7425789702649539, 0.7425789702649539, 0.7425789702649539, 0.7425789702649539, 0.7425789702649539, 0.7425789702649539, 0.7425789702649539, 0.7425789702649539, 0.7456726668331711, 0.7456726668331711]}], \"AUC_weighted\": [{\"categories\": [\"0\", \"1\", \"2\", \"3\", \"4\", \"5\", \"6\", \"7\", \"8\", \"9\", \"10\", \"11\", \"12\", \"13\", \"14\", \"15\", \"16\", \"17\", \"18\", \"19\", \"20\", \"21\", \"22\", \"23\"], \"mode\": \"markers\", \"name\": \"AUC_weighted\", \"stepped\": false, \"type\": \"scatter\", \"data\": [0.8058184150333432, 0.833416271531872, 0.827603310389174, 0.82331007767995, 0.8274377921874241, 0.8061125130737901, 0.8245917319168765, 0.7944142970111661, 0.8293689965098148, 0.7788954430598272, 0.6990422606958017, 0.6926020907056543, 0.7763584160715633, 0.8157125748543649, 0.6838538336185442, 0.720303310874439, 0.8356254387358113, 0.7001016228002438, 0.8217475291650869, 0.8236167582536161, 0.8255904806058055, 0.8227125867998865, 0.8370669514955441, 0.8339715792825103]}, {\"categories\": [\"0\", \"1\", \"2\", \"3\", \"4\", \"5\", \"6\", \"7\", \"8\", \"9\", \"10\", \"11\", \"12\", \"13\", \"14\", \"15\", \"16\", \"17\", \"18\", \"19\", \"20\", \"21\", \"22\", \"23\"], \"mode\": \"lines\", \"name\": \"AUC_weighted_max\", \"stepped\": true, \"type\": \"scatter\", \"data\": [0.8058184150333432, 0.833416271531872, 0.833416271531872, 0.833416271531872, 0.833416271531872, 0.833416271531872, 0.833416271531872, 0.833416271531872, 0.833416271531872, 0.833416271531872, 0.833416271531872, 0.833416271531872, 0.833416271531872, 0.833416271531872, 0.833416271531872, 0.833416271531872, 0.8356254387358113, 0.8356254387358113, 0.8356254387358113, 0.8356254387358113, 0.8356254387358113, 0.8356254387358113, 0.8370669514955441, 0.8370669514955441]}], \"precision_score_macro\": [{\"categories\": [\"0\", \"1\", \"2\", \"3\", \"4\", \"5\", \"6\", \"7\", \"8\", \"9\", \"10\", \"11\", \"12\", \"13\", \"14\", \"15\", \"16\", \"17\", \"18\", \"19\", \"20\", \"21\", \"22\", \"23\"], \"mode\": \"markers\", \"name\": \"precision_score_macro\", \"stepped\": false, \"type\": \"scatter\", \"data\": [0.7227963278720934, 0.7522276304011211, 0.7479692299376979, 0.753184315349031, 0.7246169214828925, 0.7150844870415849, 0.73011514283568, 0.7285577641689084, 0.7282759671622328, 0.7069883947304723, 0.6441904613539261, 0.6564660659628458, 0.7098860335321218, 0.7038476457409493, 0.6387461689970333, 0.63791842556337, 0.7337665230658666, 0.6544195582597006, 0.7380774151024905, 0.7520053878095538, 0.7447242947945968, 0.7471874991440208, 0.7714476192055683, 0.7579327806138716]}, {\"categories\": [\"0\", \"1\", \"2\", \"3\", \"4\", \"5\", \"6\", \"7\", \"8\", \"9\", \"10\", \"11\", \"12\", \"13\", \"14\", \"15\", \"16\", \"17\", \"18\", \"19\", \"20\", \"21\", \"22\", \"23\"], \"mode\": \"lines\", \"name\": \"precision_score_macro_max\", \"stepped\": true, \"type\": \"scatter\", \"data\": [0.7227963278720934, 0.7522276304011211, 0.7522276304011211, 0.753184315349031, 0.753184315349031, 0.753184315349031, 0.753184315349031, 0.753184315349031, 0.753184315349031, 0.753184315349031, 0.753184315349031, 0.753184315349031, 0.753184315349031, 0.753184315349031, 0.753184315349031, 0.753184315349031, 0.753184315349031, 0.753184315349031, 0.753184315349031, 0.753184315349031, 0.753184315349031, 0.753184315349031, 0.7714476192055683, 0.7714476192055683]}], \"AUC_macro\": [{\"categories\": [\"0\", \"1\", \"2\", \"3\", \"4\", \"5\", \"6\", \"7\", \"8\", \"9\", \"10\", \"11\", \"12\", \"13\", \"14\", \"15\", \"16\", \"17\", \"18\", \"19\", \"20\", \"21\", \"22\", \"23\"], \"mode\": \"markers\", \"name\": \"AUC_macro\", \"stepped\": false, \"type\": \"scatter\", \"data\": [0.8058184150333432, 0.833416271531872, 0.827603310389174, 0.82331007767995, 0.8274377921874241, 0.8061125130737903, 0.8245917319168765, 0.7944142970111662, 0.8293689965098148, 0.7788954430598272, 0.6990422606958017, 0.6926020907056543, 0.7763584160715633, 0.8157125748543649, 0.6838538336185441, 0.720303310874439, 0.8356254387358115, 0.7001016228002438, 0.8217475291650869, 0.8236167582536161, 0.8255904806058055, 0.8227125867998865, 0.8370669514955441, 0.8339715792825103]}, {\"categories\": [\"0\", \"1\", \"2\", \"3\", \"4\", \"5\", \"6\", \"7\", \"8\", \"9\", \"10\", \"11\", \"12\", \"13\", \"14\", \"15\", \"16\", \"17\", \"18\", \"19\", \"20\", \"21\", \"22\", \"23\"], \"mode\": \"lines\", \"name\": \"AUC_macro_max\", \"stepped\": true, \"type\": \"scatter\", \"data\": [0.8058184150333432, 0.833416271531872, 0.833416271531872, 0.833416271531872, 0.833416271531872, 0.833416271531872, 0.833416271531872, 0.833416271531872, 0.833416271531872, 0.833416271531872, 0.833416271531872, 0.833416271531872, 0.833416271531872, 0.833416271531872, 0.833416271531872, 0.833416271531872, 0.8356254387358115, 0.8356254387358115, 0.8356254387358115, 0.8356254387358115, 0.8356254387358115, 0.8356254387358115, 0.8370669514955441, 0.8370669514955441]}], \"average_precision_score_weighted\": [{\"categories\": [\"0\", \"1\", \"2\", \"3\", \"4\", \"5\", \"6\", \"7\", \"8\", \"9\", \"10\", \"11\", \"12\", \"13\", \"14\", \"15\", \"16\", \"17\", \"18\", \"19\", \"20\", \"21\", \"22\", \"23\"], \"mode\": \"markers\", \"name\": \"average_precision_score_weighted\", \"stepped\": false, \"type\": \"scatter\", \"data\": [0.8189800408166249, 0.8435226065676289, 0.8390760816499292, 0.8381912921546807, 0.8355736028760227, 0.8153884291944834, 0.8351087633152566, 0.7980298778406576, 0.8414731759853487, 0.7788833018900088, 0.7178056818086755, 0.7137727610778303, 0.7844659729903484, 0.827246794371438, 0.7024603857072103, 0.7349681952947706, 0.8465696821556943, 0.7138478787482903, 0.8310523243897017, 0.8324798581893873, 0.8364297606624254, 0.8317658453221218, 0.8458099551768491, 0.843718735872234]}, {\"categories\": [\"0\", \"1\", \"2\", \"3\", \"4\", \"5\", \"6\", \"7\", \"8\", \"9\", \"10\", \"11\", \"12\", \"13\", \"14\", \"15\", \"16\", \"17\", \"18\", \"19\", \"20\", \"21\", \"22\", \"23\"], \"mode\": \"lines\", \"name\": \"average_precision_score_weighted_max\", \"stepped\": true, \"type\": \"scatter\", \"data\": [0.8189800408166249, 0.8435226065676289, 0.8435226065676289, 0.8435226065676289, 0.8435226065676289, 0.8435226065676289, 0.8435226065676289, 0.8435226065676289, 0.8435226065676289, 0.8435226065676289, 0.8435226065676289, 0.8435226065676289, 0.8435226065676289, 0.8435226065676289, 0.8435226065676289, 0.8435226065676289, 0.8465696821556943, 0.8465696821556943, 0.8465696821556943, 0.8465696821556943, 0.8465696821556943, 0.8465696821556943, 0.8465696821556943, 0.8465696821556943]}], \"log_loss\": [{\"categories\": [\"0\", \"1\", \"2\", \"3\", \"4\", \"5\", \"6\", \"7\", \"8\", \"9\", \"10\", \"11\", \"12\", \"13\", \"14\", \"15\", \"16\", \"17\", \"18\", \"19\", \"20\", \"21\", \"22\", \"23\"], \"mode\": \"markers\", \"name\": \"log_loss\", \"stepped\": false, \"type\": \"scatter\", \"data\": [0.630010065154085, 0.4785663849727618, 0.4832264306567019, 0.493262232172766, 0.4928136820078439, 0.5373441023516737, 0.48930008780143364, 0.8819051836995271, 0.47849839584530923, 0.5495522035858353, 0.6327778259578741, 0.6155260757924845, 0.5424474492525115, 0.49195396348033216, 0.6067943391877086, 0.5919429176344551, 0.47518181785188307, 0.5994760160215804, 0.5048075546767941, 0.5314839415953552, 0.5096330432779956, 0.5047124078839085, 0.4732733957378663, 0.48369229066642594]}, {\"categories\": [\"0\", \"1\", \"2\", \"3\", \"4\", \"5\", \"6\", \"7\", \"8\", \"9\", \"10\", \"11\", \"12\", \"13\", \"14\", \"15\", \"16\", \"17\", \"18\", \"19\", \"20\", \"21\", \"22\", \"23\"], \"mode\": \"lines\", \"name\": \"log_loss_min\", \"stepped\": true, \"type\": \"scatter\", \"data\": [0.630010065154085, 0.4785663849727618, 0.4785663849727618, 0.4785663849727618, 0.4785663849727618, 0.4785663849727618, 0.4785663849727618, 0.4785663849727618, 0.47849839584530923, 0.47849839584530923, 0.47849839584530923, 0.47849839584530923, 0.47849839584530923, 0.47849839584530923, 0.47849839584530923, 0.47849839584530923, 0.47518181785188307, 0.47518181785188307, 0.47518181785188307, 0.47518181785188307, 0.47518181785188307, 0.47518181785188307, 0.4732733957378663, 0.4732733957378663]}], \"weighted_accuracy\": [{\"categories\": [\"0\", \"1\", \"2\", \"3\", \"4\", \"5\", \"6\", \"7\", \"8\", \"9\", \"10\", \"11\", \"12\", \"13\", \"14\", \"15\", \"16\", \"17\", \"18\", \"19\", \"20\", \"21\", \"22\", \"23\"], \"mode\": \"markers\", \"name\": \"weighted_accuracy\", \"stepped\": false, \"type\": \"scatter\", \"data\": [0.7795055244026202, 0.8001244668410518, 0.80637948968734, 0.8102604407683327, 0.7575198982291294, 0.772517151454198, 0.7815084789832121, 0.7893538769975701, 0.7881955719765953, 0.785275508925908, 0.7302204637921375, 0.7327286203373469, 0.7784189946727016, 0.7614522781001167, 0.7319306822642985, 0.7192365717742958, 0.795629543534525, 0.7586278107254207, 0.8047652530363238, 0.8114209945052326, 0.8060068548712802, 0.8067917068828292, 0.8211389104491429, 0.8111437204555694]}, {\"categories\": [\"0\", \"1\", \"2\", \"3\", \"4\", \"5\", \"6\", \"7\", \"8\", \"9\", \"10\", \"11\", \"12\", \"13\", \"14\", \"15\", \"16\", \"17\", \"18\", \"19\", \"20\", \"21\", \"22\", \"23\"], \"mode\": \"lines\", \"name\": \"weighted_accuracy_max\", \"stepped\": true, \"type\": \"scatter\", \"data\": [0.7795055244026202, 0.8001244668410518, 0.80637948968734, 0.8102604407683327, 0.8102604407683327, 0.8102604407683327, 0.8102604407683327, 0.8102604407683327, 0.8102604407683327, 0.8102604407683327, 0.8102604407683327, 0.8102604407683327, 0.8102604407683327, 0.8102604407683327, 0.8102604407683327, 0.8102604407683327, 0.8102604407683327, 0.8102604407683327, 0.8102604407683327, 0.8114209945052326, 0.8114209945052326, 0.8114209945052326, 0.8211389104491429, 0.8211389104491429]}], \"precision_score_weighted\": [{\"categories\": [\"0\", \"1\", \"2\", \"3\", \"4\", \"5\", \"6\", \"7\", \"8\", \"9\", \"10\", \"11\", \"12\", \"13\", \"14\", \"15\", \"16\", \"17\", \"18\", \"19\", \"20\", \"21\", \"22\", \"23\"], \"mode\": \"markers\", \"name\": \"precision_score_weighted\", \"stepped\": false, \"type\": \"scatter\", \"data\": [0.749333823730936, 0.7756366788175827, 0.7619522966720819, 0.76756897510839, 0.7592206549091325, 0.7412217019235559, 0.7567669934438619, 0.748477939294699, 0.749968842842041, 0.7197166972878412, 0.6734847345326351, 0.6850704361633155, 0.7288795881825882, 0.7319841243374239, 0.6671117917163772, 0.6668284426700365, 0.7530373824658209, 0.6721800478378388, 0.748350682181106, 0.7541726140458246, 0.7557422921857668, 0.7589765772141963, 0.7860535703644638, 0.7748842618481959]}, {\"categories\": [\"0\", \"1\", \"2\", \"3\", \"4\", \"5\", \"6\", \"7\", \"8\", \"9\", \"10\", \"11\", \"12\", \"13\", \"14\", \"15\", \"16\", \"17\", \"18\", \"19\", \"20\", \"21\", \"22\", \"23\"], \"mode\": \"lines\", \"name\": \"precision_score_weighted_max\", \"stepped\": true, \"type\": \"scatter\", \"data\": [0.749333823730936, 0.7756366788175827, 0.7756366788175827, 0.7756366788175827, 0.7756366788175827, 0.7756366788175827, 0.7756366788175827, 0.7756366788175827, 0.7756366788175827, 0.7756366788175827, 0.7756366788175827, 0.7756366788175827, 0.7756366788175827, 0.7756366788175827, 0.7756366788175827, 0.7756366788175827, 0.7756366788175827, 0.7756366788175827, 0.7756366788175827, 0.7756366788175827, 0.7756366788175827, 0.7756366788175827, 0.7860535703644638, 0.7860535703644638]}], \"f1_score_macro\": [{\"categories\": [\"0\", \"1\", \"2\", \"3\", \"4\", \"5\", \"6\", \"7\", \"8\", \"9\", \"10\", \"11\", \"12\", \"13\", \"14\", \"15\", \"16\", \"17\", \"18\", \"19\", \"20\", \"21\", \"22\", \"23\"], \"mode\": \"markers\", \"name\": \"f1_score_macro\", \"stepped\": false, \"type\": \"scatter\", \"data\": [0.7165185312796327, 0.7443615652307678, 0.7254708728028116, 0.7265322216253354, 0.7280899407299837, 0.7089003653688373, 0.7258370160599495, 0.7088281014736066, 0.7125650316152241, 0.6504199121436962, 0.6235502162628274, 0.6384689288142702, 0.6813176899064842, 0.6982458678665479, 0.6147216655822689, 0.6155831490527963, 0.7107449647454687, 0.5370182894160227, 0.6889971584367329, 0.676324525515229, 0.7003963719605572, 0.7109700501377203, 0.7528240611508512, 0.7410240504912757]}, {\"categories\": [\"0\", \"1\", \"2\", \"3\", \"4\", \"5\", \"6\", \"7\", \"8\", \"9\", \"10\", \"11\", \"12\", \"13\", \"14\", \"15\", \"16\", \"17\", \"18\", \"19\", \"20\", \"21\", \"22\", \"23\"], \"mode\": \"lines\", \"name\": \"f1_score_macro_max\", \"stepped\": true, \"type\": \"scatter\", \"data\": [0.7165185312796327, 0.7443615652307678, 0.7443615652307678, 0.7443615652307678, 0.7443615652307678, 0.7443615652307678, 0.7443615652307678, 0.7443615652307678, 0.7443615652307678, 0.7443615652307678, 0.7443615652307678, 0.7443615652307678, 0.7443615652307678, 0.7443615652307678, 0.7443615652307678, 0.7443615652307678, 0.7443615652307678, 0.7443615652307678, 0.7443615652307678, 0.7443615652307678, 0.7443615652307678, 0.7443615652307678, 0.7528240611508512, 0.7528240611508512]}], \"accuracy\": [{\"categories\": [\"0\", \"1\", \"2\", \"3\", \"4\", \"5\", \"6\", \"7\", \"8\", \"9\", \"10\", \"11\", \"12\", \"13\", \"14\", \"15\", \"16\", \"17\", \"18\", \"19\", \"20\", \"21\", \"22\", \"23\"], \"mode\": \"markers\", \"name\": \"accuracy\", \"stepped\": false, \"type\": \"scatter\", \"data\": [0.7513368983957219, 0.7747899159663865, 0.766980731686614, 0.7695781342840167, 0.7487225193107546, 0.7435616670910787, 0.7565486800780918, 0.7513199219081572, 0.7526440879382056, 0.7239962651727356, 0.682361429420253, 0.6901875901875902, 0.733138103726339, 0.7331211272387743, 0.6797385620915033, 0.6732959850606909, 0.7552245140480435, 0.671912401324166, 0.7500636618283677, 0.7487819370172311, 0.7552669552669553, 0.7604702487055428, 0.787810881928529, 0.7774042950513538]}, {\"categories\": [\"0\", \"1\", \"2\", \"3\", \"4\", \"5\", \"6\", \"7\", \"8\", \"9\", \"10\", \"11\", \"12\", \"13\", \"14\", \"15\", \"16\", \"17\", \"18\", \"19\", \"20\", \"21\", \"22\", \"23\"], \"mode\": \"lines\", \"name\": \"accuracy_max\", \"stepped\": true, \"type\": \"scatter\", \"data\": [0.7513368983957219, 0.7747899159663865, 0.7747899159663865, 0.7747899159663865, 0.7747899159663865, 0.7747899159663865, 0.7747899159663865, 0.7747899159663865, 0.7747899159663865, 0.7747899159663865, 0.7747899159663865, 0.7747899159663865, 0.7747899159663865, 0.7747899159663865, 0.7747899159663865, 0.7747899159663865, 0.7747899159663865, 0.7747899159663865, 0.7747899159663865, 0.7747899159663865, 0.7747899159663865, 0.7747899159663865, 0.787810881928529, 0.787810881928529]}], \"f1_score_micro\": [{\"categories\": [\"0\", \"1\", \"2\", \"3\", \"4\", \"5\", \"6\", \"7\", \"8\", \"9\", \"10\", \"11\", \"12\", \"13\", \"14\", \"15\", \"16\", \"17\", \"18\", \"19\", \"20\", \"21\", \"22\", \"23\"], \"mode\": \"markers\", \"name\": \"f1_score_micro\", \"stepped\": false, \"type\": \"scatter\", \"data\": [0.7513368983957219, 0.7747899159663865, 0.766980731686614, 0.7695781342840167, 0.7487225193107546, 0.7435616670910787, 0.7565486800780917, 0.7513199219081572, 0.7526440879382056, 0.7239962651727356, 0.682361429420253, 0.6901875901875902, 0.733138103726339, 0.7331211272387743, 0.6797385620915033, 0.6732959850606909, 0.7552245140480435, 0.671912401324166, 0.7500636618283677, 0.7487819370172311, 0.7552669552669553, 0.7604702487055428, 0.787810881928529, 0.7774042950513538]}, {\"categories\": [\"0\", \"1\", \"2\", \"3\", \"4\", \"5\", \"6\", \"7\", \"8\", \"9\", \"10\", \"11\", \"12\", \"13\", \"14\", \"15\", \"16\", \"17\", \"18\", \"19\", \"20\", \"21\", \"22\", \"23\"], \"mode\": \"lines\", \"name\": \"f1_score_micro_max\", \"stepped\": true, \"type\": \"scatter\", \"data\": [0.7513368983957219, 0.7747899159663865, 0.7747899159663865, 0.7747899159663865, 0.7747899159663865, 0.7747899159663865, 0.7747899159663865, 0.7747899159663865, 0.7747899159663865, 0.7747899159663865, 0.7747899159663865, 0.7747899159663865, 0.7747899159663865, 0.7747899159663865, 0.7747899159663865, 0.7747899159663865, 0.7747899159663865, 0.7747899159663865, 0.7747899159663865, 0.7747899159663865, 0.7747899159663865, 0.7747899159663865, 0.787810881928529, 0.787810881928529]}], \"recall_score_macro\": [{\"categories\": [\"0\", \"1\", \"2\", \"3\", \"4\", \"5\", \"6\", \"7\", \"8\", \"9\", \"10\", \"11\", \"12\", \"13\", \"14\", \"15\", \"16\", \"17\", \"18\", \"19\", \"20\", \"21\", \"22\", \"23\"], \"mode\": \"markers\", \"name\": \"recall_score_macro\", \"stepped\": false, \"type\": \"scatter\", \"data\": [0.7150400064343204, 0.7425789702649539, 0.7162932986880461, 0.7183963615304074, 0.7370758967764384, 0.7072672725676339, 0.7251003158145299, 0.7035364491560406, 0.7074020034701741, 0.6459961335679172, 0.6217659341343273, 0.6370358519026, 0.6769993597955158, 0.6978006559401214, 0.6133722760165458, 0.6159426638459885, 0.703646789058592, 0.5632282603270904, 0.6803891080513832, 0.669623291035898, 0.6908295318185452, 0.7021704611406544, 0.7456726668331711, 0.7345082981150015]}, {\"categories\": [\"0\", \"1\", \"2\", \"3\", \"4\", \"5\", \"6\", \"7\", \"8\", \"9\", \"10\", \"11\", \"12\", \"13\", \"14\", \"15\", \"16\", \"17\", \"18\", \"19\", \"20\", \"21\", \"22\", \"23\"], \"mode\": \"lines\", \"name\": \"recall_score_macro_max\", \"stepped\": true, \"type\": \"scatter\", \"data\": [0.7150400064343204, 0.7425789702649539, 0.7425789702649539, 0.7425789702649539, 0.7425789702649539, 0.7425789702649539, 0.7425789702649539, 0.7425789702649539, 0.7425789702649539, 0.7425789702649539, 0.7425789702649539, 0.7425789702649539, 0.7425789702649539, 0.7425789702649539, 0.7425789702649539, 0.7425789702649539, 0.7425789702649539, 0.7425789702649539, 0.7425789702649539, 0.7425789702649539, 0.7425789702649539, 0.7425789702649539, 0.7456726668331711, 0.7456726668331711]}], \"average_precision_score_micro\": [{\"categories\": [\"0\", \"1\", \"2\", \"3\", \"4\", \"5\", \"6\", \"7\", \"8\", \"9\", \"10\", \"11\", \"12\", \"13\", \"14\", \"15\", \"16\", \"17\", \"18\", \"19\", \"20\", \"21\", \"22\", \"23\"], \"mode\": \"markers\", \"name\": \"average_precision_score_micro\", \"stepped\": false, \"type\": \"scatter\", \"data\": [0.8324324388675496, 0.8543316475072968, 0.8504995450327492, 0.845817426579905, 0.8392573805261524, 0.8292555780232129, 0.8463494603885569, 0.8106639260887055, 0.8536789565753011, 0.7875966187026652, 0.7413568015530011, 0.7369808682556075, 0.797362433490863, 0.840234640899968, 0.7262103202588504, 0.7578805947583696, 0.8559444166298293, 0.7293074628736871, 0.840092379272865, 0.8308389751095943, 0.8439051708619549, 0.840388840280568, 0.857307165702446, 0.8552458405066823]}, {\"categories\": [\"0\", \"1\", \"2\", \"3\", \"4\", \"5\", \"6\", \"7\", \"8\", \"9\", \"10\", \"11\", \"12\", \"13\", \"14\", \"15\", \"16\", \"17\", \"18\", \"19\", \"20\", \"21\", \"22\", \"23\"], \"mode\": \"lines\", \"name\": \"average_precision_score_micro_max\", \"stepped\": true, \"type\": \"scatter\", \"data\": [0.8324324388675496, 0.8543316475072968, 0.8543316475072968, 0.8543316475072968, 0.8543316475072968, 0.8543316475072968, 0.8543316475072968, 0.8543316475072968, 0.8543316475072968, 0.8543316475072968, 0.8543316475072968, 0.8543316475072968, 0.8543316475072968, 0.8543316475072968, 0.8543316475072968, 0.8543316475072968, 0.8559444166298293, 0.8559444166298293, 0.8559444166298293, 0.8559444166298293, 0.8559444166298293, 0.8559444166298293, 0.857307165702446, 0.857307165702446]}], \"recall_score_micro\": [{\"categories\": [\"0\", \"1\", \"2\", \"3\", \"4\", \"5\", \"6\", \"7\", \"8\", \"9\", \"10\", \"11\", \"12\", \"13\", \"14\", \"15\", \"16\", \"17\", \"18\", \"19\", \"20\", \"21\", \"22\", \"23\"], \"mode\": \"markers\", \"name\": \"recall_score_micro\", \"stepped\": false, \"type\": \"scatter\", \"data\": [0.7513368983957219, 0.7747899159663865, 0.766980731686614, 0.7695781342840167, 0.7487225193107546, 0.7435616670910787, 0.7565486800780918, 0.7513199219081572, 0.7526440879382056, 0.7239962651727356, 0.682361429420253, 0.6901875901875902, 0.733138103726339, 0.7331211272387743, 0.6797385620915033, 0.6732959850606909, 0.7552245140480435, 0.671912401324166, 0.7500636618283677, 0.7487819370172311, 0.7552669552669553, 0.7604702487055428, 0.787810881928529, 0.7774042950513538]}, {\"categories\": [\"0\", \"1\", \"2\", \"3\", \"4\", \"5\", \"6\", \"7\", \"8\", \"9\", \"10\", \"11\", \"12\", \"13\", \"14\", \"15\", \"16\", \"17\", \"18\", \"19\", \"20\", \"21\", \"22\", \"23\"], \"mode\": \"lines\", \"name\": \"recall_score_micro_max\", \"stepped\": true, \"type\": \"scatter\", \"data\": [0.7513368983957219, 0.7747899159663865, 0.7747899159663865, 0.7747899159663865, 0.7747899159663865, 0.7747899159663865, 0.7747899159663865, 0.7747899159663865, 0.7747899159663865, 0.7747899159663865, 0.7747899159663865, 0.7747899159663865, 0.7747899159663865, 0.7747899159663865, 0.7747899159663865, 0.7747899159663865, 0.7747899159663865, 0.7747899159663865, 0.7747899159663865, 0.7747899159663865, 0.7747899159663865, 0.7747899159663865, 0.787810881928529, 0.787810881928529]}], \"matthews_correlation\": [{\"categories\": [\"0\", \"1\", \"2\", \"3\", \"4\", \"5\", \"6\", \"7\", \"8\", \"9\", \"10\", \"11\", \"12\", \"13\", \"14\", \"15\", \"16\", \"17\", \"18\", \"19\", \"20\", \"21\", \"22\", \"23\"], \"mode\": \"markers\", \"name\": \"matthews_correlation\", \"stepped\": false, \"type\": \"scatter\", \"data\": [0.4375217128713774, 0.4943026091311261, 0.4631528128762719, 0.47003071490579507, 0.4613374757929528, 0.42206111300301224, 0.4549462639999063, 0.4309092107413421, 0.43486243519031537, 0.34724904348188546, 0.26454401709457404, 0.292219361156205, 0.38482221726893034, 0.401286083143118, 0.2505282718337505, 0.2519795876766956, 0.4360634999455247, 0.1960073047983107, 0.41428733725922273, 0.41275035748815314, 0.4319564074918583, 0.44675675894706235, 0.5161605104178075, 0.4916076664076557]}, {\"categories\": [\"0\", \"1\", \"2\", \"3\", \"4\", \"5\", \"6\", \"7\", \"8\", \"9\", \"10\", \"11\", \"12\", \"13\", \"14\", \"15\", \"16\", \"17\", \"18\", \"19\", \"20\", \"21\", \"22\", \"23\"], \"mode\": \"lines\", \"name\": \"matthews_correlation_max\", \"stepped\": true, \"type\": \"scatter\", \"data\": [0.4375217128713774, 0.4943026091311261, 0.4943026091311261, 0.4943026091311261, 0.4943026091311261, 0.4943026091311261, 0.4943026091311261, 0.4943026091311261, 0.4943026091311261, 0.4943026091311261, 0.4943026091311261, 0.4943026091311261, 0.4943026091311261, 0.4943026091311261, 0.4943026091311261, 0.4943026091311261, 0.4943026091311261, 0.4943026091311261, 0.4943026091311261, 0.4943026091311261, 0.4943026091311261, 0.4943026091311261, 0.5161605104178075, 0.5161605104178075]}]}, \"metricName\": null, \"primaryMetricName\": \"accuracy\", \"showLegend\": false}, \"run_metrics\": [{\"name\": \"experiment_status\", \"run_id\": \"AutoML_25f8d913-9778-4444-a10c-8acd597ad2b9\", \"categories\": [0, 1, 2, 3, 4, 5, 6, 7, 8, 9, 10, 11, 12, 13], \"series\": [{\"data\": [\"DatasetEvaluation\", \"FeaturesGeneration\", \"DatasetFeaturization\", \"DatasetFeaturizationCompleted\", \"DatasetCrossValidationSplit\", \"ModelSelection\", \"BestRunExplainModel\", \"ModelExplanationDataSetSetup\", \"PickSurrogateModel\", \"EngineeredFeatureExplanations\", \"EngineeredFeatureExplanations\", \"RawFeaturesExplanations\", \"RawFeaturesExplanations\", \"BestRunExplainModel\"]}]}, {\"name\": \"experiment_status_description\", \"run_id\": \"AutoML_25f8d913-9778-4444-a10c-8acd597ad2b9\", \"categories\": [0, 1, 2, 3, 4, 5, 6, 7, 8, 9, 10, 11, 12, 13], \"series\": [{\"data\": [\"Gathering dataset statistics.\", \"Generating features for the dataset.\", \"Beginning to fit featurizers and featurize the dataset.\", \"Completed fit featurizers and featurizing the dataset.\", \"Generating individually featurized CV splits.\", \"Beginning model selection.\", \"Best run model explanations started\", \"Model explanations data setup completed\", \"Choosing LightGBM as the surrogate model for explanations\", \"Computation of engineered features started\", \"Computation of engineered features completed\", \"Computation of raw features started\", \"Computation of raw features completed\", \"Best run model explanations completed\"]}]}, {\"name\": \"recall_score_weighted\", \"run_id\": \"AutoML_25f8d913-9778-4444-a10c-8acd597ad2b9\", \"categories\": [0], \"series\": [{\"data\": [0.787810881928529]}]}, {\"name\": \"accuracy\", \"run_id\": \"AutoML_25f8d913-9778-4444-a10c-8acd597ad2b9\", \"categories\": [0], \"series\": [{\"data\": [0.787810881928529]}]}, {\"name\": \"recall_score_micro\", \"run_id\": \"AutoML_25f8d913-9778-4444-a10c-8acd597ad2b9\", \"categories\": [0], \"series\": [{\"data\": [0.787810881928529]}]}, {\"name\": \"log_loss\", \"run_id\": \"AutoML_25f8d913-9778-4444-a10c-8acd597ad2b9\", \"categories\": [0], \"series\": [{\"data\": [0.4732733957378663]}]}, {\"name\": \"f1_score_macro\", \"run_id\": \"AutoML_25f8d913-9778-4444-a10c-8acd597ad2b9\", \"categories\": [0], \"series\": [{\"data\": [0.7528240611508512]}]}, {\"name\": \"norm_macro_recall\", \"run_id\": \"AutoML_25f8d913-9778-4444-a10c-8acd597ad2b9\", \"categories\": [0], \"series\": [{\"data\": [0.4913453336663423]}]}, {\"name\": \"recall_score_macro\", \"run_id\": \"AutoML_25f8d913-9778-4444-a10c-8acd597ad2b9\", \"categories\": [0], \"series\": [{\"data\": [0.7456726668331711]}]}, {\"name\": \"weighted_accuracy\", \"run_id\": \"AutoML_25f8d913-9778-4444-a10c-8acd597ad2b9\", \"categories\": [0], \"series\": [{\"data\": [0.8211389104491429]}]}, {\"name\": \"matthews_correlation\", \"run_id\": \"AutoML_25f8d913-9778-4444-a10c-8acd597ad2b9\", \"categories\": [0], \"series\": [{\"data\": [0.5161605104178075]}]}, {\"name\": \"AUC_weighted\", \"run_id\": \"AutoML_25f8d913-9778-4444-a10c-8acd597ad2b9\", \"categories\": [0], \"series\": [{\"data\": [0.8370669514955441]}]}, {\"name\": \"f1_score_weighted\", \"run_id\": \"AutoML_25f8d913-9778-4444-a10c-8acd597ad2b9\", \"categories\": [0], \"series\": [{\"data\": [0.7820330194502861]}]}, {\"name\": \"precision_score_weighted\", \"run_id\": \"AutoML_25f8d913-9778-4444-a10c-8acd597ad2b9\", \"categories\": [0], \"series\": [{\"data\": [0.7860535703644638]}]}, {\"name\": \"balanced_accuracy\", \"run_id\": \"AutoML_25f8d913-9778-4444-a10c-8acd597ad2b9\", \"categories\": [0], \"series\": [{\"data\": [0.7456726668331711]}]}, {\"name\": \"f1_score_micro\", \"run_id\": \"AutoML_25f8d913-9778-4444-a10c-8acd597ad2b9\", \"categories\": [0], \"series\": [{\"data\": [0.787810881928529]}]}, {\"name\": \"AUC_macro\", \"run_id\": \"AutoML_25f8d913-9778-4444-a10c-8acd597ad2b9\", \"categories\": [0], \"series\": [{\"data\": [0.8370669514955441]}]}, {\"name\": \"AUC_micro\", \"run_id\": \"AutoML_25f8d913-9778-4444-a10c-8acd597ad2b9\", \"categories\": [0], \"series\": [{\"data\": [0.8560088159572873]}]}, {\"name\": \"average_precision_score_weighted\", \"run_id\": \"AutoML_25f8d913-9778-4444-a10c-8acd597ad2b9\", \"categories\": [0], \"series\": [{\"data\": [0.8458099551768491]}]}, {\"name\": \"average_precision_score_micro\", \"run_id\": \"AutoML_25f8d913-9778-4444-a10c-8acd597ad2b9\", \"categories\": [0], \"series\": [{\"data\": [0.857307165702446]}]}, {\"name\": \"precision_score_micro\", \"run_id\": \"AutoML_25f8d913-9778-4444-a10c-8acd597ad2b9\", \"categories\": [0], \"series\": [{\"data\": [0.787810881928529]}]}, {\"name\": \"precision_score_macro\", \"run_id\": \"AutoML_25f8d913-9778-4444-a10c-8acd597ad2b9\", \"categories\": [0], \"series\": [{\"data\": [0.7714476192055683]}]}, {\"name\": \"average_precision_score_macro\", \"run_id\": \"AutoML_25f8d913-9778-4444-a10c-8acd597ad2b9\", \"categories\": [0], \"series\": [{\"data\": [0.8165770266762726]}]}], \"run_logs\": \"\\nRun is completed.\", \"graph\": {}, \"widget_settings\": {\"childWidgetDisplay\": \"popup\", \"send_telemetry\": false, \"log_level\": \"INFO\", \"sdk_version\": \"1.19.0\"}, \"loading\": false}"
          },
          "metadata": {}
        }
      ],
      "execution_count": 21,
      "metadata": {
        "gather": {
          "logged": 1610170049385
        },
        "jupyter": {
          "outputs_hidden": false,
          "source_hidden": false
        },
        "nteract": {
          "transient": {
            "deleting": false
          }
        }
      }
    },
    {
      "cell_type": "code",
      "source": [
        "remote_run.wait_for_completion(show_output=True)"
      ],
      "outputs": [
        {
          "output_type": "stream",
          "name": "stdout",
          "text": [
            "\n",
            "\n",
            "****************************************************************************************************\n",
            "DATA GUARDRAILS: \n",
            "\n",
            "TYPE:         Class balancing detection\n",
            "STATUS:       PASSED\n",
            "DESCRIPTION:  Your inputs were analyzed, and all classes are balanced in your training data.\n",
            "              Learn more about imbalanced data: https://aka.ms/AutomatedMLImbalancedData\n",
            "\n",
            "****************************************************************************************************\n",
            "\n",
            "TYPE:         Missing feature values imputation\n",
            "STATUS:       PASSED\n",
            "DESCRIPTION:  No feature missing values were detected in the training data.\n",
            "              Learn more about missing value imputation: https://aka.ms/AutomatedMLFeaturization\n",
            "\n",
            "****************************************************************************************************\n",
            "\n",
            "TYPE:         High cardinality feature detection\n",
            "STATUS:       PASSED\n",
            "DESCRIPTION:  Your inputs were analyzed, and no high cardinality features were detected.\n",
            "              Learn more about high cardinality feature handling: https://aka.ms/AutomatedMLFeaturization\n",
            "\n",
            "****************************************************************************************************\n",
            "\n",
            "****************************************************************************************************\n",
            "ITERATION: The iteration being evaluated.\n",
            "PIPELINE: A summary description of the pipeline being evaluated.\n",
            "DURATION: Time taken for the current iteration.\n",
            "METRIC: The result of computing score on the fitted pipeline.\n",
            "BEST: The best observed score thus far.\n",
            "****************************************************************************************************\n",
            "\n",
            " ITERATION   PIPELINE                                       DURATION      METRIC      BEST\n",
            "         0   MaxAbsScaler LightGBM                          0:00:47       0.7513    0.7513\n",
            "         1   MaxAbsScaler XGBoostClassifier                 0:01:08       0.7748    0.7748\n",
            "         2   MinMaxScaler RandomForest                      0:00:51       0.7670    0.7748\n",
            "         3   MinMaxScaler RandomForest                      0:00:40       0.7696    0.7748\n",
            "         4   MinMaxScaler RandomForest                      0:00:49       0.7487    0.7748\n",
            "         5   StandardScalerWrapper XGBoostClassifier        0:00:45       0.7436    0.7748\n",
            "         6   MinMaxScaler LightGBM                          0:00:51       0.7565    0.7748\n",
            "         7   StandardScalerWrapper KNN                      0:01:03       0.7513    0.7748\n",
            "        10   SparseNormalizer XGBoostClassifier             0:00:47       0.6824    0.7748\n",
            "        11   SparseNormalizer XGBoostClassifier             0:00:50       0.6902    0.7748\n",
            "        12   RobustScaler SVM                               0:00:49       0.7331    0.7748\n",
            "        13   StandardScalerWrapper XGBoostClassifier        0:00:48       0.7331    0.7748\n",
            "        14   SparseNormalizer XGBoostClassifier             0:00:44       0.6797    0.7748\n",
            "        15   SparseNormalizer XGBoostClassifier             0:01:02       0.6733    0.7748\n",
            "         8   StandardScalerWrapper LightGBM                 0:00:47       0.7526    0.7748\n",
            "         9   MinMaxScaler SVM                               0:00:46       0.7240    0.7748\n",
            "        16   StandardScalerWrapper LightGBM                 0:00:53       0.7552    0.7748\n",
            "        17   SparseNormalizer GradientBoosting              0:00:50       0.6719    0.7748\n",
            "        18   StandardScalerWrapper RandomForest             0:00:41       0.7501    0.7748\n",
            "        19   MaxAbsScaler LightGBM                          0:00:58       0.7488    0.7748\n",
            "        20   MaxAbsScaler LightGBM                          0:00:48       0.7553    0.7748\n",
            "        21   StandardScalerWrapper GradientBoosting         0:00:44       0.7605    0.7748\n",
            "        22    VotingEnsemble                                0:01:12       0.7878    0.7878\n",
            "        23    StackEnsemble                                 0:01:14       0.7774    0.7878\n"
          ]
        },
        {
          "output_type": "execute_result",
          "execution_count": 22,
          "data": {
            "text/plain": "{'runId': 'AutoML_25f8d913-9778-4444-a10c-8acd597ad2b9',\n 'target': 'cluster',\n 'status': 'Completed',\n 'startTimeUtc': '2021-01-09T05:02:53.277531Z',\n 'endTimeUtc': '2021-01-09T05:26:45.361481Z',\n 'properties': {'num_iterations': '24',\n  'training_type': 'TrainFull',\n  'acquisition_function': 'EI',\n  'primary_metric': 'accuracy',\n  'train_split': '0',\n  'acquisition_parameter': '0',\n  'num_cross_validation': '5',\n  'target': 'cluster',\n  'AMLSettingsJsonString': '{\"path\":null,\"name\":\"diabetes\",\"subscription_id\":\"48a74bb7-9950-4cc1-9caa-5d50f995cc55\",\"resource_group\":\"aml-quickstarts-134046\",\"workspace_name\":\"quick-starts-ws-134046\",\"region\":\"southcentralus\",\"compute_target\":\"cluster\",\"spark_service\":null,\"azure_service\":\"remote\",\"many_models\":false,\"pipeline_fetch_max_batch_size\":1,\"iterations\":24,\"primary_metric\":\"accuracy\",\"task_type\":\"classification\",\"data_script\":null,\"validation_size\":0.0,\"n_cross_validations\":5,\"y_min\":null,\"y_max\":null,\"num_classes\":null,\"featurization\":\"auto\",\"_ignore_package_version_incompatibilities\":false,\"is_timeseries\":false,\"max_cores_per_iteration\":1,\"max_concurrent_iterations\":8,\"iteration_timeout_minutes\":null,\"mem_in_mb\":null,\"enforce_time_on_windows\":false,\"experiment_timeout_minutes\":30,\"experiment_exit_score\":null,\"whitelist_models\":null,\"blacklist_algos\":[\"TensorFlowLinearClassifier\",\"TensorFlowDNN\"],\"supported_models\":[\"TensorFlowLinearClassifier\",\"TensorFlowDNN\",\"ExtremeRandomTrees\",\"KNN\",\"AveragedPerceptronClassifier\",\"MultinomialNaiveBayes\",\"DecisionTree\",\"LinearSVM\",\"RandomForest\",\"SVM\",\"GradientBoosting\",\"LogisticRegression\",\"XGBoostClassifier\",\"LightGBM\",\"SGD\",\"BernoulliNaiveBayes\"],\"auto_blacklist\":true,\"blacklist_samples_reached\":false,\"exclude_nan_labels\":true,\"verbosity\":20,\"_debug_log\":\"azureml_automl.log\",\"show_warnings\":false,\"model_explainability\":true,\"service_url\":null,\"sdk_url\":null,\"sdk_packages\":null,\"enable_onnx_compatible_models\":false,\"enable_split_onnx_featurizer_estimator_models\":false,\"vm_type\":\"STANDARD_D2_V2\",\"telemetry_verbosity\":20,\"send_telemetry\":true,\"enable_dnn\":false,\"scenario\":\"SDK-1.13.0\",\"environment_label\":null,\"force_text_dnn\":false,\"enable_feature_sweeping\":true,\"enable_early_stopping\":false,\"early_stopping_n_iters\":10,\"metrics\":null,\"enable_ensembling\":true,\"enable_stack_ensembling\":true,\"ensemble_iterations\":15,\"enable_tf\":false,\"enable_subsampling\":false,\"subsample_seed\":null,\"enable_nimbusml\":false,\"enable_streaming\":false,\"force_streaming\":false,\"track_child_runs\":true,\"allowed_private_models\":[],\"label_column_name\":\"Outcome\",\"weight_column_name\":null,\"cv_split_column_names\":null,\"enable_local_managed\":false,\"_local_managed_run_id\":null,\"cost_mode\":1,\"lag_length\":0,\"metric_operation\":\"maximize\",\"preprocess\":true}',\n  'DataPrepJsonString': '{\\\\\"training_data\\\\\": \\\\\"{\\\\\\\\\\\\\"blocks\\\\\\\\\\\\\": [{\\\\\\\\\\\\\"id\\\\\\\\\\\\\": \\\\\\\\\\\\\"15f24808-d9ed-44a3-8893-b92ddce0d24b\\\\\\\\\\\\\", \\\\\\\\\\\\\"type\\\\\\\\\\\\\": \\\\\\\\\\\\\"Microsoft.DPrep.GetDatastoreFilesBlock\\\\\\\\\\\\\", \\\\\\\\\\\\\"arguments\\\\\\\\\\\\\": {\\\\\\\\\\\\\"datastores\\\\\\\\\\\\\": [{\\\\\\\\\\\\\"datastoreName\\\\\\\\\\\\\": \\\\\\\\\\\\\"workspaceblobstore\\\\\\\\\\\\\", \\\\\\\\\\\\\"path\\\\\\\\\\\\\": \\\\\\\\\\\\\"UI/01-09-2021_042914_UTC/diabetes.csv\\\\\\\\\\\\\", \\\\\\\\\\\\\"resourceGroup\\\\\\\\\\\\\": \\\\\\\\\\\\\"aml-quickstarts-134046\\\\\\\\\\\\\", \\\\\\\\\\\\\"subscription\\\\\\\\\\\\\": \\\\\\\\\\\\\"48a74bb7-9950-4cc1-9caa-5d50f995cc55\\\\\\\\\\\\\", \\\\\\\\\\\\\"workspaceName\\\\\\\\\\\\\": \\\\\\\\\\\\\"quick-starts-ws-134046\\\\\\\\\\\\\"}]}, \\\\\\\\\\\\\"localData\\\\\\\\\\\\\": {}, \\\\\\\\\\\\\"isEnabled\\\\\\\\\\\\\": true, \\\\\\\\\\\\\"name\\\\\\\\\\\\\": null, \\\\\\\\\\\\\"annotation\\\\\\\\\\\\\": null}, {\\\\\\\\\\\\\"id\\\\\\\\\\\\\": \\\\\\\\\\\\\"31ad3855-9830-4c0c-bae1-b00f209f4384\\\\\\\\\\\\\", \\\\\\\\\\\\\"type\\\\\\\\\\\\\": \\\\\\\\\\\\\"Microsoft.DPrep.ParseDelimitedBlock\\\\\\\\\\\\\", \\\\\\\\\\\\\"arguments\\\\\\\\\\\\\": {\\\\\\\\\\\\\"columnHeadersMode\\\\\\\\\\\\\": 3, \\\\\\\\\\\\\"fileEncoding\\\\\\\\\\\\\": 0, \\\\\\\\\\\\\"handleQuotedLineBreaks\\\\\\\\\\\\\": false, \\\\\\\\\\\\\"preview\\\\\\\\\\\\\": false, \\\\\\\\\\\\\"separator\\\\\\\\\\\\\": \\\\\\\\\\\\\",\\\\\\\\\\\\\", \\\\\\\\\\\\\"skipRows\\\\\\\\\\\\\": 0, \\\\\\\\\\\\\"skipRowsMode\\\\\\\\\\\\\": 0}, \\\\\\\\\\\\\"localData\\\\\\\\\\\\\": {}, \\\\\\\\\\\\\"isEnabled\\\\\\\\\\\\\": true, \\\\\\\\\\\\\"name\\\\\\\\\\\\\": null, \\\\\\\\\\\\\"annotation\\\\\\\\\\\\\": null}, {\\\\\\\\\\\\\"id\\\\\\\\\\\\\": \\\\\\\\\\\\\"d6fb08d6-2bc2-42ed-9263-916bce738cdd\\\\\\\\\\\\\", \\\\\\\\\\\\\"type\\\\\\\\\\\\\": \\\\\\\\\\\\\"Microsoft.DPrep.DropColumnsBlock\\\\\\\\\\\\\", \\\\\\\\\\\\\"arguments\\\\\\\\\\\\\": {\\\\\\\\\\\\\"columns\\\\\\\\\\\\\": {\\\\\\\\\\\\\"type\\\\\\\\\\\\\": 0, \\\\\\\\\\\\\"details\\\\\\\\\\\\\": {\\\\\\\\\\\\\"selectedColumns\\\\\\\\\\\\\": [\\\\\\\\\\\\\"Path\\\\\\\\\\\\\"]}}}, \\\\\\\\\\\\\"localData\\\\\\\\\\\\\": {}, \\\\\\\\\\\\\"isEnabled\\\\\\\\\\\\\": true, \\\\\\\\\\\\\"name\\\\\\\\\\\\\": null, \\\\\\\\\\\\\"annotation\\\\\\\\\\\\\": null}, {\\\\\\\\\\\\\"id\\\\\\\\\\\\\": \\\\\\\\\\\\\"2e3d32b4-3645-4f3e-aebf-badde36b8eea\\\\\\\\\\\\\", \\\\\\\\\\\\\"type\\\\\\\\\\\\\": \\\\\\\\\\\\\"Microsoft.DPrep.SetColumnTypesBlock\\\\\\\\\\\\\", \\\\\\\\\\\\\"arguments\\\\\\\\\\\\\": {\\\\\\\\\\\\\"columnConversion\\\\\\\\\\\\\": [{\\\\\\\\\\\\\"column\\\\\\\\\\\\\": {\\\\\\\\\\\\\"type\\\\\\\\\\\\\": 2, \\\\\\\\\\\\\"details\\\\\\\\\\\\\": {\\\\\\\\\\\\\"selectedColumn\\\\\\\\\\\\\": \\\\\\\\\\\\\"Path\\\\\\\\\\\\\"}}, \\\\\\\\\\\\\"typeProperty\\\\\\\\\\\\\": 0}, {\\\\\\\\\\\\\"column\\\\\\\\\\\\\": {\\\\\\\\\\\\\"type\\\\\\\\\\\\\": 2, \\\\\\\\\\\\\"details\\\\\\\\\\\\\": {\\\\\\\\\\\\\"selectedColumn\\\\\\\\\\\\\": \\\\\\\\\\\\\"Pregnancies\\\\\\\\\\\\\"}}, \\\\\\\\\\\\\"typeProperty\\\\\\\\\\\\\": 2}, {\\\\\\\\\\\\\"column\\\\\\\\\\\\\": {\\\\\\\\\\\\\"type\\\\\\\\\\\\\": 2, \\\\\\\\\\\\\"details\\\\\\\\\\\\\": {\\\\\\\\\\\\\"selectedColumn\\\\\\\\\\\\\": \\\\\\\\\\\\\"Glucose\\\\\\\\\\\\\"}}, \\\\\\\\\\\\\"typeProperty\\\\\\\\\\\\\": 2}, {\\\\\\\\\\\\\"column\\\\\\\\\\\\\": {\\\\\\\\\\\\\"type\\\\\\\\\\\\\": 2, \\\\\\\\\\\\\"details\\\\\\\\\\\\\": {\\\\\\\\\\\\\"selectedColumn\\\\\\\\\\\\\": \\\\\\\\\\\\\"BloodPressure\\\\\\\\\\\\\"}}, \\\\\\\\\\\\\"typeProperty\\\\\\\\\\\\\": 2}, {\\\\\\\\\\\\\"column\\\\\\\\\\\\\": {\\\\\\\\\\\\\"type\\\\\\\\\\\\\": 2, \\\\\\\\\\\\\"details\\\\\\\\\\\\\": {\\\\\\\\\\\\\"selectedColumn\\\\\\\\\\\\\": \\\\\\\\\\\\\"SkinThickness\\\\\\\\\\\\\"}}, \\\\\\\\\\\\\"typeProperty\\\\\\\\\\\\\": 2}, {\\\\\\\\\\\\\"column\\\\\\\\\\\\\": {\\\\\\\\\\\\\"type\\\\\\\\\\\\\": 2, \\\\\\\\\\\\\"details\\\\\\\\\\\\\": {\\\\\\\\\\\\\"selectedColumn\\\\\\\\\\\\\": \\\\\\\\\\\\\"Insulin\\\\\\\\\\\\\"}}, \\\\\\\\\\\\\"typeProperty\\\\\\\\\\\\\": 2}, {\\\\\\\\\\\\\"column\\\\\\\\\\\\\": {\\\\\\\\\\\\\"type\\\\\\\\\\\\\": 2, \\\\\\\\\\\\\"details\\\\\\\\\\\\\": {\\\\\\\\\\\\\"selectedColumn\\\\\\\\\\\\\": \\\\\\\\\\\\\"BMI\\\\\\\\\\\\\"}}, \\\\\\\\\\\\\"typeProperty\\\\\\\\\\\\\": 3}, {\\\\\\\\\\\\\"column\\\\\\\\\\\\\": {\\\\\\\\\\\\\"type\\\\\\\\\\\\\": 2, \\\\\\\\\\\\\"details\\\\\\\\\\\\\": {\\\\\\\\\\\\\"selectedColumn\\\\\\\\\\\\\": \\\\\\\\\\\\\"DiabetesPedigreeFunction\\\\\\\\\\\\\"}}, \\\\\\\\\\\\\"typeProperty\\\\\\\\\\\\\": 3}, {\\\\\\\\\\\\\"column\\\\\\\\\\\\\": {\\\\\\\\\\\\\"type\\\\\\\\\\\\\": 2, \\\\\\\\\\\\\"details\\\\\\\\\\\\\": {\\\\\\\\\\\\\"selectedColumn\\\\\\\\\\\\\": \\\\\\\\\\\\\"Age\\\\\\\\\\\\\"}}, \\\\\\\\\\\\\"typeProperty\\\\\\\\\\\\\": 2}, {\\\\\\\\\\\\\"column\\\\\\\\\\\\\": {\\\\\\\\\\\\\"type\\\\\\\\\\\\\": 2, \\\\\\\\\\\\\"details\\\\\\\\\\\\\": {\\\\\\\\\\\\\"selectedColumn\\\\\\\\\\\\\": \\\\\\\\\\\\\"Outcome\\\\\\\\\\\\\"}}, \\\\\\\\\\\\\"typeProperty\\\\\\\\\\\\\": 2}]}, \\\\\\\\\\\\\"localData\\\\\\\\\\\\\": {}, \\\\\\\\\\\\\"isEnabled\\\\\\\\\\\\\": true, \\\\\\\\\\\\\"name\\\\\\\\\\\\\": null, \\\\\\\\\\\\\"annotation\\\\\\\\\\\\\": null}], \\\\\\\\\\\\\"inspectors\\\\\\\\\\\\\": [], \\\\\\\\\\\\\"meta\\\\\\\\\\\\\": {\\\\\\\\\\\\\"savedDatasetId\\\\\\\\\\\\\": \\\\\\\\\\\\\"bf6ad8d0-dc94-46ee-abb3-b5b7cd93f4a0\\\\\\\\\\\\\", \\\\\\\\\\\\\"datasetType\\\\\\\\\\\\\": \\\\\\\\\\\\\"tabular\\\\\\\\\\\\\", \\\\\\\\\\\\\"subscriptionId\\\\\\\\\\\\\": \\\\\\\\\\\\\"48a74bb7-9950-4cc1-9caa-5d50f995cc55\\\\\\\\\\\\\", \\\\\\\\\\\\\"workspaceId\\\\\\\\\\\\\": \\\\\\\\\\\\\"9891ddb8-90d1-4100-80a5-da7217001473\\\\\\\\\\\\\", \\\\\\\\\\\\\"workspaceLocation\\\\\\\\\\\\\": \\\\\\\\\\\\\"southcentralus\\\\\\\\\\\\\"}}\\\\\", \\\\\"activities\\\\\": 0}',\n  'EnableSubsampling': 'False',\n  'runTemplate': 'AutoML',\n  'azureml.runsource': 'automl',\n  'display_task_type': 'classification',\n  'dependencies_versions': '{\"azureml-widgets\": \"1.19.0\", \"azureml-train\": \"1.19.0\", \"azureml-train-restclients-hyperdrive\": \"1.19.0\", \"azureml-train-core\": \"1.19.0\", \"azureml-train-automl\": \"1.19.0\", \"azureml-train-automl-runtime\": \"1.19.0\", \"azureml-train-automl-client\": \"1.19.0\", \"azureml-tensorboard\": \"1.19.0\", \"azureml-telemetry\": \"1.19.0\", \"azureml-sdk\": \"1.19.0\", \"azureml-samples\": \"0+unknown\", \"azureml-pipeline\": \"1.19.0\", \"azureml-pipeline-steps\": \"1.19.0\", \"azureml-pipeline-core\": \"1.19.0\", \"azureml-opendatasets\": \"1.19.0\", \"azureml-model-management-sdk\": \"1.0.1b6.post1\", \"azureml-mlflow\": \"1.19.0\", \"azureml-interpret\": \"1.19.0\", \"azureml-explain-model\": \"1.19.0\", \"azureml-defaults\": \"1.19.0\", \"azureml-dataset-runtime\": \"1.19.0\", \"azureml-dataprep\": \"2.6.1\", \"azureml-dataprep-rslex\": \"1.4.0\", \"azureml-dataprep-native\": \"26.0.0\", \"azureml-datadrift\": \"1.19.0\", \"azureml-core\": \"1.19.0\", \"azureml-contrib-services\": \"1.19.0\", \"azureml-contrib-server\": \"1.19.0\", \"azureml-contrib-reinforcementlearning\": \"1.19.0\", \"azureml-contrib-pipeline-steps\": \"1.19.0\", \"azureml-contrib-notebook\": \"1.19.0\", \"azureml-contrib-interpret\": \"1.19.0\", \"azureml-contrib-gbdt\": \"1.19.0\", \"azureml-contrib-fairness\": \"1.19.0\", \"azureml-contrib-dataset\": \"1.19.0\", \"azureml-cli-common\": \"1.19.0\", \"azureml-automl-runtime\": \"1.19.0\", \"azureml-automl-core\": \"1.19.0\", \"azureml-accel-models\": \"1.19.0\"}',\n  '_aml_system_scenario_identification': 'Remote.Parent',\n  'ClientType': 'SDK',\n  'environment_cpu_name': 'AzureML-AutoML',\n  'environment_cpu_label': 'prod',\n  'environment_gpu_name': 'AzureML-AutoML-GPU',\n  'environment_gpu_label': 'prod',\n  'root_attribution': 'automl',\n  'attribution': 'AutoML',\n  'Orchestrator': 'AutoML',\n  'CancelUri': 'https://southcentralus.experiments.azureml.net/jasmine/v1.0/subscriptions/48a74bb7-9950-4cc1-9caa-5d50f995cc55/resourceGroups/aml-quickstarts-134046/providers/Microsoft.MachineLearningServices/workspaces/quick-starts-ws-134046/experimentids/fa8aafee-29e1-4917-821c-9cc39b93e70b/cancel/AutoML_25f8d913-9778-4444-a10c-8acd597ad2b9',\n  'ClientSdkVersion': '1.19.0',\n  'snapshotId': '00000000-0000-0000-0000-000000000000',\n  'SetupRunId': 'AutoML_25f8d913-9778-4444-a10c-8acd597ad2b9_setup',\n  'SetupRunContainerId': 'dcid.AutoML_25f8d913-9778-4444-a10c-8acd597ad2b9_setup',\n  'FeaturizationRunJsonPath': 'featurizer_container.json',\n  'FeaturizationRunId': 'AutoML_25f8d913-9778-4444-a10c-8acd597ad2b9_featurize',\n  'ProblemInfoJsonString': '{\"dataset_num_categorical\": 0, \"is_sparse\": false, \"subsampling\": false, \"dataset_classes\": 2, \"dataset_features\": 8, \"dataset_samples\": 768, \"single_frequency_class_detected\": false}',\n  'ModelExplainRunId': 'AutoML_25f8d913-9778-4444-a10c-8acd597ad2b9_ModelExplain'},\n 'inputDatasets': [{'dataset': {'id': 'bf6ad8d0-dc94-46ee-abb3-b5b7cd93f4a0'}, 'consumptionDetails': {'type': 'RunInput', 'inputName': 'training_data', 'mechanism': 'Direct'}}],\n 'outputDatasets': [],\n 'logFiles': {}}"
          },
          "metadata": {}
        }
      ],
      "execution_count": 22,
      "metadata": {
        "collapsed": true,
        "jupyter": {
          "source_hidden": false,
          "outputs_hidden": false
        },
        "nteract": {
          "transient": {
            "deleting": false
          }
        },
        "gather": {
          "logged": 1610170159558
        }
      }
    },
    {
      "cell_type": "markdown",
      "source": [
        "## Best Model\n",
        "\n",
        "TODO: In the cell below, get the best model from the automl experiments and display all the properties of the model.\n",
        "\n"
      ],
      "metadata": {}
    },
    {
      "cell_type": "code",
      "source": [
        "bestrun,model=remote_run.get_output()"
      ],
      "outputs": [],
      "execution_count": 23,
      "metadata": {
        "gather": {
          "logged": 1610170221609
        },
        "jupyter": {
          "outputs_hidden": false,
          "source_hidden": false
        },
        "nteract": {
          "transient": {
            "deleting": false
          }
        }
      }
    },
    {
      "cell_type": "code",
      "source": [
        "#TODO: Save the best model\r\n",
        "bestrun"
      ],
      "outputs": [
        {
          "output_type": "execute_result",
          "execution_count": 24,
          "data": {
            "text/plain": "Run(Experiment: diabetes,\nId: AutoML_25f8d913-9778-4444-a10c-8acd597ad2b9_22,\nType: azureml.scriptrun,\nStatus: Completed)",
            "text/html": "<table style=\"width:100%\"><tr><th>Experiment</th><th>Id</th><th>Type</th><th>Status</th><th>Details Page</th><th>Docs Page</th></tr><tr><td>diabetes</td><td>AutoML_25f8d913-9778-4444-a10c-8acd597ad2b9_22</td><td>azureml.scriptrun</td><td>Completed</td><td><a href=\"https://ml.azure.com/experiments/diabetes/runs/AutoML_25f8d913-9778-4444-a10c-8acd597ad2b9_22?wsid=/subscriptions/48a74bb7-9950-4cc1-9caa-5d50f995cc55/resourcegroups/aml-quickstarts-134046/workspaces/quick-starts-ws-134046\" target=\"_blank\" rel=\"noopener\">Link to Azure Machine Learning studio</a></td><td><a href=\"https://docs.microsoft.com/en-us/python/api/azureml-core/azureml.core.run.Run?view=azure-ml-py\" target=\"_blank\" rel=\"noopener\">Link to Documentation</a></td></tr></table>"
          },
          "metadata": {}
        }
      ],
      "execution_count": 24,
      "metadata": {
        "gather": {
          "logged": 1610170230223
        },
        "jupyter": {
          "outputs_hidden": false,
          "source_hidden": false
        },
        "nteract": {
          "transient": {
            "deleting": false
          }
        }
      }
    },
    {
      "cell_type": "code",
      "source": [
        "model"
      ],
      "outputs": [
        {
          "output_type": "execute_result",
          "execution_count": 25,
          "data": {
            "text/plain": "Pipeline(memory=None,\n         steps=[('datatransformer',\n                 DataTransformer(enable_dnn=None, enable_feature_sweeping=None,\n                                 feature_sweeping_config=None,\n                                 feature_sweeping_timeout=None,\n                                 featurization_config=None, force_text_dnn=None,\n                                 is_cross_validation=None,\n                                 is_onnx_compatible=None, logger=None,\n                                 observer=None, task=None, working_dir=None)),\n                ('prefittedsoftvotingclassifier',...\n                                                                                        degree=3,\n                                                                                        gamma='scale',\n                                                                                        kernel='rbf',\n                                                                                        max_iter=-1,\n                                                                                        probability=True,\n                                                                                        random_state=None,\n                                                                                        shrinking=True,\n                                                                                        tol=0.001,\n                                                                                        verbose=False))],\n                                                                     verbose=False))],\n                                               flatten_transform=None,\n                                               weights=[0.23076923076923078,\n                                                        0.15384615384615385,\n                                                        0.15384615384615385,\n                                                        0.07692307692307693,\n                                                        0.15384615384615385,\n                                                        0.07692307692307693,\n                                                        0.07692307692307693,\n                                                        0.07692307692307693]))],\n         verbose=False)"
          },
          "metadata": {}
        }
      ],
      "execution_count": 25,
      "metadata": {
        "collapsed": true,
        "jupyter": {
          "source_hidden": false,
          "outputs_hidden": false
        },
        "nteract": {
          "transient": {
            "deleting": false
          }
        },
        "gather": {
          "logged": 1610170257592
        }
      }
    },
    {
      "cell_type": "code",
      "source": [
        "best_run_metrics = bestrun.get_metrics()"
      ],
      "outputs": [],
      "execution_count": 26,
      "metadata": {
        "collapsed": true,
        "jupyter": {
          "source_hidden": false,
          "outputs_hidden": false
        },
        "nteract": {
          "transient": {
            "deleting": false
          }
        },
        "gather": {
          "logged": 1610170287330
        }
      }
    },
    {
      "cell_type": "code",
      "source": [
        "model"
      ],
      "outputs": [
        {
          "output_type": "execute_result",
          "execution_count": 27,
          "data": {
            "text/plain": "Pipeline(memory=None,\n         steps=[('datatransformer',\n                 DataTransformer(enable_dnn=None, enable_feature_sweeping=None,\n                                 feature_sweeping_config=None,\n                                 feature_sweeping_timeout=None,\n                                 featurization_config=None, force_text_dnn=None,\n                                 is_cross_validation=None,\n                                 is_onnx_compatible=None, logger=None,\n                                 observer=None, task=None, working_dir=None)),\n                ('prefittedsoftvotingclassifier',...\n                                                                                        degree=3,\n                                                                                        gamma='scale',\n                                                                                        kernel='rbf',\n                                                                                        max_iter=-1,\n                                                                                        probability=True,\n                                                                                        random_state=None,\n                                                                                        shrinking=True,\n                                                                                        tol=0.001,\n                                                                                        verbose=False))],\n                                                                     verbose=False))],\n                                               flatten_transform=None,\n                                               weights=[0.23076923076923078,\n                                                        0.15384615384615385,\n                                                        0.15384615384615385,\n                                                        0.07692307692307693,\n                                                        0.15384615384615385,\n                                                        0.07692307692307693,\n                                                        0.07692307692307693,\n                                                        0.07692307692307693]))],\n         verbose=False)"
          },
          "metadata": {}
        }
      ],
      "execution_count": 27,
      "metadata": {
        "collapsed": true,
        "jupyter": {
          "source_hidden": false,
          "outputs_hidden": false
        },
        "nteract": {
          "transient": {
            "deleting": false
          }
        },
        "gather": {
          "logged": 1610170303144
        }
      }
    },
    {
      "cell_type": "code",
      "source": [
        "import joblib\r\n",
        "os.makedirs('./outputs', exist_ok=True)\r\n",
        "\r\n",
        "joblib.dump(model, filename='outputs/automl_model.joblib')\r\n",
        "\r\n",
        "model_name = bestrun.properties['model_name']\r\n",
        "model_name"
      ],
      "outputs": [
        {
          "output_type": "execute_result",
          "execution_count": 28,
          "data": {
            "text/plain": "'AutoML25f8d913922'"
          },
          "metadata": {}
        }
      ],
      "execution_count": 28,
      "metadata": {
        "collapsed": true,
        "jupyter": {
          "source_hidden": false,
          "outputs_hidden": false
        },
        "nteract": {
          "transient": {
            "deleting": false
          }
        },
        "gather": {
          "logged": 1610170343616
        }
      }
    },
    {
      "cell_type": "code",
      "source": [
        "env = bestrun.get_environment().save_to_directory(path='environments')\r\n",
        "\r\n",
        "script_file = 'score.py'\r\n",
        "\r\n",
        "bestrun.download_file('outputs/scoring_file_v_1_0_0.py', script_file)"
      ],
      "outputs": [],
      "execution_count": 29,
      "metadata": {
        "collapsed": true,
        "jupyter": {
          "source_hidden": false,
          "outputs_hidden": false
        },
        "nteract": {
          "transient": {
            "deleting": false
          }
        },
        "gather": {
          "logged": 1610170370517
        }
      }
    },
    {
      "cell_type": "code",
      "source": [
        "model = remote_run.register_model(model_name = model_name,\r\n",
        "                                  description = 'AutoML model')\r\n",
        "model.id"
      ],
      "outputs": [
        {
          "output_type": "execute_result",
          "execution_count": 30,
          "data": {
            "text/plain": "'AutoML25f8d913922:1'"
          },
          "metadata": {}
        }
      ],
      "execution_count": 30,
      "metadata": {
        "collapsed": true,
        "jupyter": {
          "source_hidden": false,
          "outputs_hidden": false
        },
        "nteract": {
          "transient": {
            "deleting": false
          }
        },
        "gather": {
          "logged": 1610170398695
        }
      }
    },
    {
      "cell_type": "code",
      "source": [
        "inference_config = InferenceConfig(entry_script = script_file, environment = env)\r\n",
        "\r\n",
        "aci_config = AciWebservice.deploy_configuration(cpu_cores = 1, memory_gb = 1)\r\n",
        "\r\n",
        "aci_service_name = 'automl-diabetes'\r\n",
        "print(aci_service_name)"
      ],
      "outputs": [
        {
          "output_type": "stream",
          "name": "stdout",
          "text": [
            "automl-diabetes\n"
          ]
        }
      ],
      "execution_count": 31,
      "metadata": {
        "collapsed": true,
        "jupyter": {
          "source_hidden": false,
          "outputs_hidden": false
        },
        "nteract": {
          "transient": {
            "deleting": false
          }
        },
        "gather": {
          "logged": 1610170417168
        }
      }
    },
    {
      "cell_type": "markdown",
      "source": [
        "## Model Deployment\n",
        "\n",
        "Remember you have to deploy only one of the two models you trained.. Perform the steps in the rest of this notebook only if you wish to deploy this model.\n",
        "\n",
        "TODO: In the cell below, register the model, create an inference config and deploy the model as a web service."
      ],
      "metadata": {}
    },
    {
      "cell_type": "code",
      "source": [
        "service = Model.deploy(ws, aci_service_name, [model], inference_config, aci_config)\r\n",
        "service.wait_for_deployment(True)\r\n",
        "print(\"State: \" + service.state)\r\n",
        "print(\"Scoring URI: \" + service.scoring_uri)"
      ],
      "outputs": [
        {
          "output_type": "stream",
          "name": "stdout",
          "text": [
            "Tips: You can try get_logs(): https://aka.ms/debugimage#dockerlog or local deployment: https://aka.ms/debugimage#debug-locally to debug if deployment takes longer than 10 minutes.\n",
            "Running............................................\n",
            "Succeeded\n",
            "ACI service creation operation finished, operation \"Succeeded\"\n",
            "State: Healthy\n",
            "Scoring URI: http://a777970f-63ef-40af-a16f-0466710559e4.southcentralus.azurecontainer.io/score\n"
          ]
        }
      ],
      "execution_count": 32,
      "metadata": {
        "gather": {
          "logged": 1610170668230
        },
        "jupyter": {
          "outputs_hidden": false,
          "source_hidden": false
        },
        "nteract": {
          "transient": {
            "deleting": false
          }
        }
      }
    },
    {
      "cell_type": "markdown",
      "source": [
        "TODO: In the cell below, send a request to the web service you deployed to test it."
      ],
      "metadata": {
        "collapsed": true,
        "gather": {
          "logged": 1598431657736
        },
        "jupyter": {
          "outputs_hidden": false,
          "source_hidden": false
        },
        "nteract": {
          "transient": {
            "deleting": false
          }
        }
      }
    },
    {
      "cell_type": "code",
      "source": [
        "%run endpoint.py"
      ],
      "outputs": [
        {
          "output_type": "stream",
          "name": "stdout",
          "text": [
            "{\"result\": [1, 1]}\n"
          ]
        }
      ],
      "execution_count": 36,
      "metadata": {
        "gather": {
          "logged": 1598432707604
        },
        "jupyter": {
          "outputs_hidden": false,
          "source_hidden": false
        },
        "nteract": {
          "transient": {
            "deleting": false
          }
        }
      }
    },
    {
      "cell_type": "markdown",
      "source": [
        "TODO: In the cell below, print the logs of the web service and delete the service"
      ],
      "metadata": {
        "collapsed": true,
        "gather": {
          "logged": 1598432765711
        },
        "jupyter": {
          "outputs_hidden": false,
          "source_hidden": false
        },
        "nteract": {
          "transient": {
            "deleting": false
          }
        }
      }
    },
    {
      "cell_type": "code",
      "source": [
        "df_test=df[700:710]"
      ],
      "outputs": [],
      "execution_count": 39,
      "metadata": {
        "jupyter": {
          "outputs_hidden": false,
          "source_hidden": false
        },
        "nteract": {
          "transient": {
            "deleting": false
          }
        },
        "gather": {
          "logged": 1610171195035
        }
      }
    },
    {
      "cell_type": "code",
      "source": [
        "y_true=df_test.pop('Outcome')"
      ],
      "outputs": [],
      "execution_count": 40,
      "metadata": {
        "collapsed": true,
        "jupyter": {
          "source_hidden": false,
          "outputs_hidden": false
        },
        "nteract": {
          "transient": {
            "deleting": false
          }
        },
        "gather": {
          "logged": 1610171228421
        }
      }
    },
    {
      "cell_type": "code",
      "source": [
        "sample_json = json.dumps({'data':df_test.to_dict(orient='records')})"
      ],
      "outputs": [],
      "execution_count": 41,
      "metadata": {
        "collapsed": true,
        "jupyter": {
          "source_hidden": false,
          "outputs_hidden": false
        },
        "nteract": {
          "transient": {
            "deleting": false
          }
        },
        "gather": {
          "logged": 1610171243830
        }
      }
    },
    {
      "cell_type": "code",
      "source": [
        "sample_json"
      ],
      "outputs": [
        {
          "output_type": "execute_result",
          "execution_count": 42,
          "data": {
            "text/plain": "'{\"data\": [{\"Pregnancies\": 2, \"Glucose\": 122, \"BloodPressure\": 76, \"SkinThickness\": 27, \"Insulin\": 200, \"BMI\": 35.9, \"DiabetesPedigreeFunction\": 0.483, \"Age\": 26}, {\"Pregnancies\": 6, \"Glucose\": 125, \"BloodPressure\": 78, \"SkinThickness\": 31, \"Insulin\": 0, \"BMI\": 27.6, \"DiabetesPedigreeFunction\": 0.565, \"Age\": 49}, {\"Pregnancies\": 1, \"Glucose\": 168, \"BloodPressure\": 88, \"SkinThickness\": 29, \"Insulin\": 0, \"BMI\": 35.0, \"DiabetesPedigreeFunction\": 0.905, \"Age\": 52}, {\"Pregnancies\": 2, \"Glucose\": 129, \"BloodPressure\": 0, \"SkinThickness\": 0, \"Insulin\": 0, \"BMI\": 38.5, \"DiabetesPedigreeFunction\": 0.304, \"Age\": 41}, {\"Pregnancies\": 4, \"Glucose\": 110, \"BloodPressure\": 76, \"SkinThickness\": 20, \"Insulin\": 100, \"BMI\": 28.4, \"DiabetesPedigreeFunction\": 0.118, \"Age\": 27}, {\"Pregnancies\": 6, \"Glucose\": 80, \"BloodPressure\": 80, \"SkinThickness\": 36, \"Insulin\": 0, \"BMI\": 39.8, \"DiabetesPedigreeFunction\": 0.177, \"Age\": 28}, {\"Pregnancies\": 10, \"Glucose\": 115, \"BloodPressure\": 0, \"SkinThickness\": 0, \"Insulin\": 0, \"BMI\": 0.0, \"DiabetesPedigreeFunction\": 0.261, \"Age\": 30}, {\"Pregnancies\": 2, \"Glucose\": 127, \"BloodPressure\": 46, \"SkinThickness\": 21, \"Insulin\": 335, \"BMI\": 34.4, \"DiabetesPedigreeFunction\": 0.176, \"Age\": 22}, {\"Pregnancies\": 9, \"Glucose\": 164, \"BloodPressure\": 78, \"SkinThickness\": 0, \"Insulin\": 0, \"BMI\": 32.8, \"DiabetesPedigreeFunction\": 0.148, \"Age\": 45}, {\"Pregnancies\": 2, \"Glucose\": 93, \"BloodPressure\": 64, \"SkinThickness\": 32, \"Insulin\": 160, \"BMI\": 38.0, \"DiabetesPedigreeFunction\": 0.674, \"Age\": 23}]}'"
          },
          "metadata": {}
        }
      ],
      "execution_count": 42,
      "metadata": {
        "collapsed": true,
        "jupyter": {
          "source_hidden": false,
          "outputs_hidden": false
        },
        "nteract": {
          "transient": {
            "deleting": false
          }
        },
        "gather": {
          "logged": 1610171261967
        }
      }
    },
    {
      "cell_type": "code",
      "source": [
        "output = service.run(sample_json)"
      ],
      "outputs": [],
      "execution_count": 43,
      "metadata": {
        "collapsed": true,
        "jupyter": {
          "source_hidden": false,
          "outputs_hidden": false
        },
        "nteract": {
          "transient": {
            "deleting": false
          }
        },
        "gather": {
          "logged": 1610171275491
        }
      }
    },
    {
      "cell_type": "code",
      "source": [
        "output"
      ],
      "outputs": [
        {
          "output_type": "execute_result",
          "execution_count": 44,
          "data": {
            "text/plain": "'{\"result\": [0, 0, 1, 1, 0, 0, 0, 0, 1, 0]}'"
          },
          "metadata": {}
        }
      ],
      "execution_count": 44,
      "metadata": {
        "collapsed": true,
        "jupyter": {
          "source_hidden": false,
          "outputs_hidden": false
        },
        "nteract": {
          "transient": {
            "deleting": false
          }
        },
        "gather": {
          "logged": 1610171279839
        }
      }
    },
    {
      "cell_type": "code",
      "source": [
        "print(\"Predicted Values are :\", output)\r\n",
        "print(\"True Values are:\",y_true.values)"
      ],
      "outputs": [
        {
          "output_type": "stream",
          "name": "stdout",
          "text": [
            "Predicted Values are : {\"result\": [0, 0, 1, 1, 0, 0, 0, 0, 1, 0]}\n",
            "True Values are: [0 1 1 0 0 0 1 0 1 1]\n"
          ]
        }
      ],
      "execution_count": 45,
      "metadata": {
        "collapsed": true,
        "jupyter": {
          "source_hidden": false,
          "outputs_hidden": false
        },
        "nteract": {
          "transient": {
            "deleting": false
          }
        },
        "gather": {
          "logged": 1610171310337
        }
      }
    },
    {
      "cell_type": "code",
      "source": [
        "service.get_logs()"
      ],
      "outputs": [
        {
          "output_type": "execute_result",
          "execution_count": 46,
          "data": {
            "text/plain": "'2021-01-09T05:37:35,084144688+00:00 - iot-server/run \\n2021-01-09T05:37:35,084144688+00:00 - gunicorn/run \\n2021-01-09T05:37:35,085022646+00:00 - rsyslog/run \\n2021-01-09T05:37:35,112180441+00:00 - nginx/run \\n/usr/sbin/nginx: /azureml-envs/azureml_8eff28b157f42edcd2424a5aae6c8074/lib/libcrypto.so.1.0.0: no version information available (required by /usr/sbin/nginx)\\n/usr/sbin/nginx: /azureml-envs/azureml_8eff28b157f42edcd2424a5aae6c8074/lib/libcrypto.so.1.0.0: no version information available (required by /usr/sbin/nginx)\\n/usr/sbin/nginx: /azureml-envs/azureml_8eff28b157f42edcd2424a5aae6c8074/lib/libssl.so.1.0.0: no version information available (required by /usr/sbin/nginx)\\n/usr/sbin/nginx: /azureml-envs/azureml_8eff28b157f42edcd2424a5aae6c8074/lib/libssl.so.1.0.0: no version information available (required by /usr/sbin/nginx)\\n/usr/sbin/nginx: /azureml-envs/azureml_8eff28b157f42edcd2424a5aae6c8074/lib/libssl.so.1.0.0: no version information available (required by /usr/sbin/nginx)\\nrsyslogd: /azureml-envs/azureml_8eff28b157f42edcd2424a5aae6c8074/lib/libuuid.so.1: no version information available (required by rsyslogd)\\nEdgeHubConnectionString and IOTEDGE_IOTHUBHOSTNAME are not set. Exiting...\\n2021-01-09T05:37:35,315852198+00:00 - iot-server/finish 1 0\\n2021-01-09T05:37:35,317684219+00:00 - Exit code 1 is normal. Not restarting iot-server.\\nStarting gunicorn 19.9.0\\nListening at: http://127.0.0.1:31311 (16)\\nUsing worker: sync\\nworker timeout is set to 300\\nBooting worker with pid: 46\\nSPARK_HOME not set. Skipping PySpark Initialization.\\nGenerating new fontManager, this may take some time...\\nInitializing logger\\n2021-01-09 05:37:36,887 | root | INFO | Starting up app insights client\\nStarting up app insights client\\n2021-01-09 05:37:36,887 | root | INFO | Starting up request id generator\\nStarting up request id generator\\n2021-01-09 05:37:36,887 | root | INFO | Starting up app insight hooks\\nStarting up app insight hooks\\n2021-01-09 05:37:36,887 | root | INFO | Invoking user\\'s init function\\nInvoking user\\'s init function\\n2021-01-09 05:37:40,021 | root | INFO | Users\\'s init has completed successfully\\nUsers\\'s init has completed successfully\\n2021-01-09 05:37:40,024 | root | INFO | Skipping middleware: dbg_model_info as it\\'s not enabled.\\nSkipping middleware: dbg_model_info as it\\'s not enabled.\\n2021-01-09 05:37:40,024 | root | INFO | Skipping middleware: dbg_resource_usage as it\\'s not enabled.\\nSkipping middleware: dbg_resource_usage as it\\'s not enabled.\\n2021-01-09 05:37:40,025 | root | INFO | Scoring timeout is found from os.environ: 60000 ms\\nScoring timeout is found from os.environ: 60000 ms\\n2021-01-09 05:37:44,016 | root | INFO | 200\\n200\\n127.0.0.1 - - [09/Jan/2021:05:37:44 +0000] \"GET /swagger.json HTTP/1.0\" 200 2552 \"-\" \"Go-http-client/1.1\"\\n2021-01-09 05:37:48,027 | root | INFO | 200\\n200\\n127.0.0.1 - - [09/Jan/2021:05:37:48 +0000] \"GET /swagger.json HTTP/1.0\" 200 2552 \"-\" \"Go-http-client/1.1\"\\n2021-01-09 05:38:12,715 | root | INFO | \\tHost: localhost:5001\\n\\tHost: localhost:5001\\n2021-01-09 05:38:12,715 | root | INFO | \\tX-Real-Ip: 127.0.0.1\\n\\tX-Real-Ip: 127.0.0.1\\n2021-01-09 05:38:12,715 | root | INFO | \\tX-Forwarded-For: 127.0.0.1\\n\\tX-Forwarded-For: 127.0.0.1\\n2021-01-09 05:38:12,715 | root | INFO | \\tX-Forwarded-Proto: http\\n\\tX-Forwarded-Proto: http\\n2021-01-09 05:38:12,715 | root | INFO | \\tConnection: close\\n\\tConnection: close\\n2021-01-09 05:38:12,716 | root | INFO | \\tUser-Agent: Mozilla/5.0 (Windows NT 10.0; Win64; x64) AppleWebKit/537.36 (KHTML, like Gecko) Chrome/86.0.4240.75 Safari/537.36\\n\\tUser-Agent: Mozilla/5.0 (Windows NT 10.0; Win64; x64) AppleWebKit/537.36 (KHTML, like Gecko) Chrome/86.0.4240.75 Safari/537.36\\n2021-01-09 05:38:12,716 | root | INFO | \\tAccept: text/html,application/xhtml+xml,application/xml;q=0.9,image/avif,image/webp,image/apng,*/*;q=0.8,application/signed-exchange;v=b3;q=0.9\\n\\tAccept: text/html,application/xhtml+xml,application/xml;q=0.9,image/avif,image/webp,image/apng,*/*;q=0.8,application/signed-exchange;v=b3;q=0.9\\n2021-01-09 05:38:12,716 | root | INFO | \\tAccept-Encoding: gzip, deflate\\n\\tAccept-Encoding: gzip, deflate\\n2021-01-09 05:38:12,716 | root | INFO | \\tAccept-Language: en-US,en;q=0.9\\n\\tAccept-Language: en-US,en;q=0.9\\n2021-01-09 05:38:12,716 | root | INFO | \\tUpgrade-Insecure-Requests: 1\\n\\tUpgrade-Insecure-Requests: 1\\n2021-01-09 05:38:12,716 | root | INFO | \\tX-Ms-Request-Id: 82184bde-f928-4ad0-90d6-d004c41cc994\\n\\tX-Ms-Request-Id: 82184bde-f928-4ad0-90d6-d004c41cc994\\n2021-01-09 05:38:12,718 | root | ERROR | Encountered Exception: Traceback (most recent call last):\\n  File \"/var/azureml-server/app.py\", line 239, in run_scoring\\n    response = invoke_user_with_timer(service_input, request_headers)\\n  File \"/var/azureml-server/app.py\", line 287, in invoke_user_with_timer\\n    params = {main.run_input_parameter_name: input[main.wrapped_parameter_name]}\\nKeyError: \\'data\\'\\n\\nDuring handling of the above exception, another exception occurred:\\n\\nTraceback (most recent call last):\\n  File \"/azureml-envs/azureml_8eff28b157f42edcd2424a5aae6c8074/lib/python3.6/site-packages/flask/app.py\", line 1832, in full_dispatch_request\\n    rv = self.dispatch_request()\\n  File \"/azureml-envs/azureml_8eff28b157f42edcd2424a5aae6c8074/lib/python3.6/site-packages/flask/app.py\", line 1818, in dispatch_request\\n    return self.view_functions[rule.endpoint](**req.view_args)\\n  File \"/var/azureml-server/app.py\", line 119, in get_prediction_realtime\\n    return run_scoring(service_input, request.headers, request.environ.get(\\'REQUEST_ID\\', \\'00000000-0000-0000-0000-000000000000\\'))\\n  File \"/var/azureml-server/app.py\", line 252, in run_scoring\\n    raise RunFunctionException(str(exc))\\nrun_function_exception.RunFunctionException\\n\\nEncountered Exception: Traceback (most recent call last):\\n  File \"/var/azureml-server/app.py\", line 239, in run_scoring\\n    response = invoke_user_with_timer(service_input, request_headers)\\n  File \"/var/azureml-server/app.py\", line 287, in invoke_user_with_timer\\n    params = {main.run_input_parameter_name: input[main.wrapped_parameter_name]}\\nKeyError: \\'data\\'\\n\\nDuring handling of the above exception, another exception occurred:\\n\\nTraceback (most recent call last):\\n  File \"/azureml-envs/azureml_8eff28b157f42edcd2424a5aae6c8074/lib/python3.6/site-packages/flask/app.py\", line 1832, in full_dispatch_request\\n    rv = self.dispatch_request()\\n  File \"/azureml-envs/azureml_8eff28b157f42edcd2424a5aae6c8074/lib/python3.6/site-packages/flask/app.py\", line 1818, in dispatch_request\\n    return self.view_functions[rule.endpoint](**req.view_args)\\n  File \"/var/azureml-server/app.py\", line 119, in get_prediction_realtime\\n    return run_scoring(service_input, request.headers, request.environ.get(\\'REQUEST_ID\\', \\'00000000-0000-0000-0000-000000000000\\'))\\n  File \"/var/azureml-server/app.py\", line 252, in run_scoring\\n    raise RunFunctionException(str(exc))\\nrun_function_exception.RunFunctionException\\n\\n2021-01-09 05:38:12,718 | root | INFO | 500\\n500\\n127.0.0.1 - - [09/Jan/2021:05:38:12 +0000] \"GET /score HTTP/1.0\" 500 6 \"-\" \"Mozilla/5.0 (Windows NT 10.0; Win64; x64) AppleWebKit/537.36 (KHTML, like Gecko) Chrome/86.0.4240.75 Safari/537.36\"\\n127.0.0.1 - - [09/Jan/2021:05:38:12 +0000] \"GET /favicon.ico HTTP/1.0\" 404 232 \"http://a777970f-63ef-40af-a16f-0466710559e4.southcentralus.azurecontainer.io/score\" \"Mozilla/5.0 (Windows NT 10.0; Win64; x64) AppleWebKit/537.36 (KHTML, like Gecko) Chrome/86.0.4240.75 Safari/537.36\"\\n2021-01-09 05:38:43,498 | root | INFO | 200\\n200\\n127.0.0.1 - - [09/Jan/2021:05:38:43 +0000] \"GET /swagger.json HTTP/1.0\" 200 2552 \"-\" \"Go-http-client/1.1\"\\n2021-01-09 05:38:43,846 | root | INFO | 200\\n200\\n127.0.0.1 - - [09/Jan/2021:05:38:43 +0000] \"GET /swagger.json HTTP/1.0\" 200 2552 \"-\" \"Go-http-client/1.1\"\\n2021-01-09 05:43:50,426 | root | INFO | Validation Request Content-Type\\nValidation Request Content-Type\\n2021-01-09 05:43:50,427 | root | INFO | \\tHost: localhost:5001\\n\\tHost: localhost:5001\\n2021-01-09 05:43:50,428 | root | INFO | \\tX-Real-Ip: 127.0.0.1\\n\\tX-Real-Ip: 127.0.0.1\\n2021-01-09 05:43:50,428 | root | INFO | \\tX-Forwarded-For: 127.0.0.1\\n\\tX-Forwarded-For: 127.0.0.1\\n2021-01-09 05:43:50,428 | root | INFO | \\tX-Forwarded-Proto: http\\n\\tX-Forwarded-Proto: http\\n2021-01-09 05:43:50,428 | root | INFO | \\tConnection: close\\n\\tConnection: close\\n2021-01-09 05:43:50,428 | root | INFO | \\tContent-Length: 314\\n\\tContent-Length: 314\\n2021-01-09 05:43:50,428 | root | INFO | \\tUser-Agent: python-requests/2.25.0\\n\\tUser-Agent: python-requests/2.25.0\\n2021-01-09 05:43:50,428 | root | INFO | \\tAccept: */*\\n\\tAccept: */*\\n2021-01-09 05:43:50,429 | root | INFO | \\tAccept-Encoding: gzip, deflate\\n\\tAccept-Encoding: gzip, deflate\\n2021-01-09 05:43:50,429 | root | INFO | \\tContent-Type: application/json\\n\\tContent-Type: application/json\\n2021-01-09 05:43:50,429 | root | INFO | \\tX-Ms-Request-Id: 2486923b-ecd8-4c4f-bc59-bf51bdc034dc\\n\\tX-Ms-Request-Id: 2486923b-ecd8-4c4f-bc59-bf51bdc034dc\\n2021-01-09 05:43:50,429 | root | INFO | Scoring Timer is set to 60.0 seconds\\nScoring Timer is set to 60.0 seconds\\n2021-01-09 05:43:50,472 | root | INFO | 200\\n200\\n127.0.0.1 - - [09/Jan/2021:05:43:50 +0000] \"POST /score HTTP/1.0\" 200 22 \"-\" \"python-requests/2.25.0\"\\n2021-01-09 05:47:55,155 | root | INFO | Validation Request Content-Type\\nValidation Request Content-Type\\n2021-01-09 05:47:55,156 | root | INFO | \\tHost: localhost:5001\\n\\tHost: localhost:5001\\n2021-01-09 05:47:55,156 | root | INFO | \\tX-Real-Ip: 127.0.0.1\\n\\tX-Real-Ip: 127.0.0.1\\n2021-01-09 05:47:55,156 | root | INFO | \\tX-Forwarded-For: 127.0.0.1\\n\\tX-Forwarded-For: 127.0.0.1\\n2021-01-09 05:47:55,156 | root | INFO | \\tX-Forwarded-Proto: http\\n\\tX-Forwarded-Proto: http\\n2021-01-09 05:47:55,156 | root | INFO | \\tConnection: close\\n\\tConnection: close\\n2021-01-09 05:47:55,156 | root | INFO | \\tContent-Length: 1521\\n\\tContent-Length: 1521\\n2021-01-09 05:47:55,157 | root | INFO | \\tUser-Agent: python-requests/2.25.0\\n\\tUser-Agent: python-requests/2.25.0\\n2021-01-09 05:47:55,157 | root | INFO | \\tAccept: application/json\\n\\tAccept: application/json\\n2021-01-09 05:47:55,157 | root | INFO | \\tAccept-Encoding: gzip, deflate\\n\\tAccept-Encoding: gzip, deflate\\n2021-01-09 05:47:55,157 | root | INFO | \\tContent-Type: application/json\\n\\tContent-Type: application/json\\n2021-01-09 05:47:55,157 | root | INFO | \\tX-Ms-Request-Id: 637f0632-c2c9-4bdf-81d6-f0a98752a08a\\n\\tX-Ms-Request-Id: 637f0632-c2c9-4bdf-81d6-f0a98752a08a\\n2021-01-09 05:47:55,157 | root | INFO | Scoring Timer is set to 60.0 seconds\\nScoring Timer is set to 60.0 seconds\\n2021-01-09 05:47:55,203 | root | INFO | 200\\n200\\n127.0.0.1 - - [09/Jan/2021:05:47:55 +0000] \"POST /score HTTP/1.0\" 200 46 \"-\" \"python-requests/2.25.0\"\\n'"
          },
          "metadata": {}
        }
      ],
      "execution_count": 46,
      "metadata": {
        "collapsed": true,
        "jupyter": {
          "source_hidden": false,
          "outputs_hidden": false
        },
        "nteract": {
          "transient": {
            "deleting": false
          }
        },
        "gather": {
          "logged": 1610171328030
        }
      }
    },
    {
      "cell_type": "code",
      "source": [
        "service.delete()"
      ],
      "outputs": [],
      "execution_count": 47,
      "metadata": {
        "collapsed": true,
        "jupyter": {
          "source_hidden": false,
          "outputs_hidden": false
        },
        "nteract": {
          "transient": {
            "deleting": false
          }
        },
        "gather": {
          "logged": 1610171351559
        }
      }
    },
    {
      "cell_type": "code",
      "source": [],
      "outputs": [],
      "execution_count": null,
      "metadata": {
        "collapsed": true,
        "jupyter": {
          "source_hidden": false,
          "outputs_hidden": false
        },
        "nteract": {
          "transient": {
            "deleting": false
          }
        }
      }
    }
  ],
  "metadata": {
    "kernel_info": {
      "name": "python3"
    },
    "kernelspec": {
      "name": "python3",
      "language": "python",
      "display_name": "Python 3"
    },
    "language_info": {
      "name": "python",
      "version": "3.6.9",
      "mimetype": "text/x-python",
      "codemirror_mode": {
        "name": "ipython",
        "version": 3
      },
      "pygments_lexer": "ipython3",
      "nbconvert_exporter": "python",
      "file_extension": ".py"
    },
    "nteract": {
      "version": "nteract-front-end@1.0.0"
    }
  },
  "nbformat": 4,
  "nbformat_minor": 2
}
